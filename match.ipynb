{
 "cells": [
  {
   "cell_type": "code",
   "execution_count": 1,
   "id": "76f0a9f4",
   "metadata": {},
   "outputs": [],
   "source": [
    "# Imports\n",
    "import numpy as np\n",
    "\n",
    "from rich import print as pprint\n",
    "from panoptica import (\n",
    "    InputType,\n",
    "    Panoptica_Evaluator,\n",
    "    ConnectedComponentsInstanceApproximator,\n",
    "    NaiveThresholdMatching,\n",
    "    HungryMatching,\n",
    ")"
   ]
  },
  {
   "cell_type": "markdown",
   "id": "55d7cd7c",
   "metadata": {},
   "source": [
    "# Simple Binary Example "
   ]
  },
  {
   "cell_type": "markdown",
   "id": "052f7a64",
   "metadata": {},
   "source": [
    "## With 0.5 Threshold"
   ]
  },
  {
   "cell_type": "code",
   "execution_count": 2,
   "id": "4d66bdf0",
   "metadata": {},
   "outputs": [
    {
     "data": {
      "image/png": "[encoded data removed]",
      "text/plain": [
       "<Figure size 1000x500 with 3 Axes>"
      ]
     },
     "metadata": {},
     "output_type": "display_data"
    }
   ],
   "source": [
    "# Create empty arrays\n",
    "pred = np.zeros((40, 40))\n",
    "gt = np.zeros((40, 40))\n",
    "\n",
    "# Reference objects (ground truth)\n",
    "gt[1:10, 6:14] = 1\n",
    "gt[1:10, 15:24] = 1\n",
    "\n",
    "pred[2:12, 10:30] = 1\n",
    "\n",
    "import matplotlib.pyplot as plt\n",
    "\n",
    "fig, ax = plt.subplots(1, 3, figsize=(10, 5))\n",
    "ax[0].imshow(pred, cmap=\"gray\")\n",
    "ax[0].set_title(\"Pred\")\n",
    "ax[1].imshow(gt, cmap=\"gray\")\n",
    "ax[1].set_title(\"GT\")\n",
    "ax[2].imshow(pred + gt, cmap=\"gray\")\n",
    "ax[2].set_title(\"Overlay\")\n",
    "plt.show()"
   ]
  },
  {
   "cell_type": "code",
   "execution_count": 3,
   "id": "7b2fb825",
   "metadata": {},
   "outputs": [
    {
     "name": "stdout",
     "output_type": "stream",
     "text": [
      "Naive Matching\n",
      "ref_label: 2, pred_label: 1, matching_score: 0.3444976076555024\n",
      "ref_label: 1, pred_label: 1, matching_score: 0.13333333333333333\n"
     ]
    },
    {
     "data": {
      "text/html": [
       "<pre style=\"white-space:pre;overflow-x:auto;line-height:normal;font-family:Menlo,'DejaVu Sans Mono',consolas,'Courier New',monospace\">\n",
       "+++ MATCHING +++\n",
       "Number of instances in reference <span style=\"font-weight: bold\">(</span>num_ref_instances<span style=\"font-weight: bold\">)</span>: <span style=\"color: #008080; text-decoration-color: #008080; font-weight: bold\">2</span>\n",
       "Number of instances in prediction <span style=\"font-weight: bold\">(</span>num_pred_instances<span style=\"font-weight: bold\">)</span>: <span style=\"color: #008080; text-decoration-color: #008080; font-weight: bold\">1</span>\n",
       "<span style=\"color: #00ff00; text-decoration-color: #00ff00; font-style: italic\">True</span> Positives <span style=\"font-weight: bold\">(</span>tp<span style=\"font-weight: bold\">)</span>: <span style=\"color: #008080; text-decoration-color: #008080; font-weight: bold\">0</span>\n",
       "<span style=\"color: #ff0000; text-decoration-color: #ff0000; font-style: italic\">False</span> Positives <span style=\"font-weight: bold\">(</span>fp<span style=\"font-weight: bold\">)</span>: <span style=\"color: #008080; text-decoration-color: #008080; font-weight: bold\">1</span>\n",
       "<span style=\"color: #ff0000; text-decoration-color: #ff0000; font-style: italic\">False</span> Negatives <span style=\"font-weight: bold\">(</span>fn<span style=\"font-weight: bold\">)</span>: <span style=\"color: #008080; text-decoration-color: #008080; font-weight: bold\">2</span>\n",
       "Recognition Quality <span style=\"color: #800080; text-decoration-color: #800080\">/</span> F1-Score <span style=\"font-weight: bold\">(</span>rq<span style=\"font-weight: bold\">)</span>: <span style=\"color: #008080; text-decoration-color: #008080; font-weight: bold\">0.0</span>\n",
       "\n",
       "+++ GLOBAL +++\n",
       "Global Binary Dice <span style=\"font-weight: bold\">(</span>global_bin_dsc<span style=\"font-weight: bold\">)</span>: <span style=\"color: #008080; text-decoration-color: #008080; font-weight: bold\">0.5892351274787535</span>\n",
       "\n",
       "+++ INSTANCE +++\n",
       "Segmentation Quality IoU <span style=\"font-weight: bold\">(</span>sq<span style=\"font-weight: bold\">)</span>: <span style=\"color: #008080; text-decoration-color: #008080; font-weight: bold\">0.0</span> +- nan\n",
       "Panoptic Quality IoU <span style=\"font-weight: bold\">(</span>pq<span style=\"font-weight: bold\">)</span>: <span style=\"color: #008080; text-decoration-color: #008080; font-weight: bold\">0.0</span>\n",
       "Segmentation Quality Dsc <span style=\"font-weight: bold\">(</span>sq_dsc<span style=\"font-weight: bold\">)</span>: <span style=\"color: #008080; text-decoration-color: #008080; font-weight: bold\">0.0</span> +- nan\n",
       "Panoptic Quality Dsc <span style=\"font-weight: bold\">(</span>pq_dsc<span style=\"font-weight: bold\">)</span>: <span style=\"color: #008080; text-decoration-color: #008080; font-weight: bold\">0.0</span>\n",
       "Segmentation Quality ASSD <span style=\"font-weight: bold\">(</span>sq_assd<span style=\"font-weight: bold\">)</span>: inf +- nan\n",
       "Segmentation Quality Relative Volume Difference <span style=\"font-weight: bold\">(</span>sq_rvd<span style=\"font-weight: bold\">)</span>: nan +- nan\n",
       "\n",
       "</pre>\n"
      ],
      "text/plain": [
       "\n",
       "+++ MATCHING +++\n",
       "Number of instances in reference \u001b[1m(\u001b[0mnum_ref_instances\u001b[1m)\u001b[0m: \u001b[1;36m2\u001b[0m\n",
       "Number of instances in prediction \u001b[1m(\u001b[0mnum_pred_instances\u001b[1m)\u001b[0m: \u001b[1;36m1\u001b[0m\n",
       "\u001b[3;92mTrue\u001b[0m Positives \u001b[1m(\u001b[0mtp\u001b[1m)\u001b[0m: \u001b[1;36m0\u001b[0m\n",
       "\u001b[3;91mFalse\u001b[0m Positives \u001b[1m(\u001b[0mfp\u001b[1m)\u001b[0m: \u001b[1;36m1\u001b[0m\n",
       "\u001b[3;91mFalse\u001b[0m Negatives \u001b[1m(\u001b[0mfn\u001b[1m)\u001b[0m: \u001b[1;36m2\u001b[0m\n",
       "Recognition Quality \u001b[35m/\u001b[0m F1-Score \u001b[1m(\u001b[0mrq\u001b[1m)\u001b[0m: \u001b[1;36m0.0\u001b[0m\n",
       "\n",
       "+++ GLOBAL +++\n",
       "Global Binary Dice \u001b[1m(\u001b[0mglobal_bin_dsc\u001b[1m)\u001b[0m: \u001b[1;36m0.5892351274787535\u001b[0m\n",
       "\n",
       "+++ INSTANCE +++\n",
       "Segmentation Quality IoU \u001b[1m(\u001b[0msq\u001b[1m)\u001b[0m: \u001b[1;36m0.0\u001b[0m +- nan\n",
       "Panoptic Quality IoU \u001b[1m(\u001b[0mpq\u001b[1m)\u001b[0m: \u001b[1;36m0.0\u001b[0m\n",
       "Segmentation Quality Dsc \u001b[1m(\u001b[0msq_dsc\u001b[1m)\u001b[0m: \u001b[1;36m0.0\u001b[0m +- nan\n",
       "Panoptic Quality Dsc \u001b[1m(\u001b[0mpq_dsc\u001b[1m)\u001b[0m: \u001b[1;36m0.0\u001b[0m\n",
       "Segmentation Quality ASSD \u001b[1m(\u001b[0msq_assd\u001b[1m)\u001b[0m: inf +- nan\n",
       "Segmentation Quality Relative Volume Difference \u001b[1m(\u001b[0msq_rvd\u001b[1m)\u001b[0m: nan +- nan\n",
       "\n"
      ]
     },
     "metadata": {},
     "output_type": "display_data"
    },
    {
     "name": "stdout",
     "output_type": "stream",
     "text": [
      "\n",
      "Hungry Matching\n"
     ]
    },
    {
     "data": {
      "text/html": [
       "<pre style=\"white-space:pre;overflow-x:auto;line-height:normal;font-family:Menlo,'DejaVu Sans Mono',consolas,'Courier New',monospace\">\n",
       "+++ MATCHING +++\n",
       "Number of instances in reference <span style=\"font-weight: bold\">(</span>num_ref_instances<span style=\"font-weight: bold\">)</span>: <span style=\"color: #008080; text-decoration-color: #008080; font-weight: bold\">2</span>\n",
       "Number of instances in prediction <span style=\"font-weight: bold\">(</span>num_pred_instances<span style=\"font-weight: bold\">)</span>: <span style=\"color: #008080; text-decoration-color: #008080; font-weight: bold\">1</span>\n",
       "<span style=\"color: #00ff00; text-decoration-color: #00ff00; font-style: italic\">True</span> Positives <span style=\"font-weight: bold\">(</span>tp<span style=\"font-weight: bold\">)</span>: <span style=\"color: #008080; text-decoration-color: #008080; font-weight: bold\">0</span>\n",
       "<span style=\"color: #ff0000; text-decoration-color: #ff0000; font-style: italic\">False</span> Positives <span style=\"font-weight: bold\">(</span>fp<span style=\"font-weight: bold\">)</span>: <span style=\"color: #008080; text-decoration-color: #008080; font-weight: bold\">1</span>\n",
       "<span style=\"color: #ff0000; text-decoration-color: #ff0000; font-style: italic\">False</span> Negatives <span style=\"font-weight: bold\">(</span>fn<span style=\"font-weight: bold\">)</span>: <span style=\"color: #008080; text-decoration-color: #008080; font-weight: bold\">2</span>\n",
       "Recognition Quality <span style=\"color: #800080; text-decoration-color: #800080\">/</span> F1-Score <span style=\"font-weight: bold\">(</span>rq<span style=\"font-weight: bold\">)</span>: <span style=\"color: #008080; text-decoration-color: #008080; font-weight: bold\">0.0</span>\n",
       "\n",
       "+++ GLOBAL +++\n",
       "Global Binary Dice <span style=\"font-weight: bold\">(</span>global_bin_dsc<span style=\"font-weight: bold\">)</span>: <span style=\"color: #008080; text-decoration-color: #008080; font-weight: bold\">0.5892351274787535</span>\n",
       "\n",
       "+++ INSTANCE +++\n",
       "Segmentation Quality IoU <span style=\"font-weight: bold\">(</span>sq<span style=\"font-weight: bold\">)</span>: <span style=\"color: #008080; text-decoration-color: #008080; font-weight: bold\">0.0</span> +- nan\n",
       "Panoptic Quality IoU <span style=\"font-weight: bold\">(</span>pq<span style=\"font-weight: bold\">)</span>: <span style=\"color: #008080; text-decoration-color: #008080; font-weight: bold\">0.0</span>\n",
       "Segmentation Quality Dsc <span style=\"font-weight: bold\">(</span>sq_dsc<span style=\"font-weight: bold\">)</span>: <span style=\"color: #008080; text-decoration-color: #008080; font-weight: bold\">0.0</span> +- nan\n",
       "Panoptic Quality Dsc <span style=\"font-weight: bold\">(</span>pq_dsc<span style=\"font-weight: bold\">)</span>: <span style=\"color: #008080; text-decoration-color: #008080; font-weight: bold\">0.0</span>\n",
       "Segmentation Quality ASSD <span style=\"font-weight: bold\">(</span>sq_assd<span style=\"font-weight: bold\">)</span>: inf +- nan\n",
       "Segmentation Quality Relative Volume Difference <span style=\"font-weight: bold\">(</span>sq_rvd<span style=\"font-weight: bold\">)</span>: nan +- nan\n",
       "\n",
       "</pre>\n"
      ],
      "text/plain": [
       "\n",
       "+++ MATCHING +++\n",
       "Number of instances in reference \u001b[1m(\u001b[0mnum_ref_instances\u001b[1m)\u001b[0m: \u001b[1;36m2\u001b[0m\n",
       "Number of instances in prediction \u001b[1m(\u001b[0mnum_pred_instances\u001b[1m)\u001b[0m: \u001b[1;36m1\u001b[0m\n",
       "\u001b[3;92mTrue\u001b[0m Positives \u001b[1m(\u001b[0mtp\u001b[1m)\u001b[0m: \u001b[1;36m0\u001b[0m\n",
       "\u001b[3;91mFalse\u001b[0m Positives \u001b[1m(\u001b[0mfp\u001b[1m)\u001b[0m: \u001b[1;36m1\u001b[0m\n",
       "\u001b[3;91mFalse\u001b[0m Negatives \u001b[1m(\u001b[0mfn\u001b[1m)\u001b[0m: \u001b[1;36m2\u001b[0m\n",
       "Recognition Quality \u001b[35m/\u001b[0m F1-Score \u001b[1m(\u001b[0mrq\u001b[1m)\u001b[0m: \u001b[1;36m0.0\u001b[0m\n",
       "\n",
       "+++ GLOBAL +++\n",
       "Global Binary Dice \u001b[1m(\u001b[0mglobal_bin_dsc\u001b[1m)\u001b[0m: \u001b[1;36m0.5892351274787535\u001b[0m\n",
       "\n",
       "+++ INSTANCE +++\n",
       "Segmentation Quality IoU \u001b[1m(\u001b[0msq\u001b[1m)\u001b[0m: \u001b[1;36m0.0\u001b[0m +- nan\n",
       "Panoptic Quality IoU \u001b[1m(\u001b[0mpq\u001b[1m)\u001b[0m: \u001b[1;36m0.0\u001b[0m\n",
       "Segmentation Quality Dsc \u001b[1m(\u001b[0msq_dsc\u001b[1m)\u001b[0m: \u001b[1;36m0.0\u001b[0m +- nan\n",
       "Panoptic Quality Dsc \u001b[1m(\u001b[0mpq_dsc\u001b[1m)\u001b[0m: \u001b[1;36m0.0\u001b[0m\n",
       "Segmentation Quality ASSD \u001b[1m(\u001b[0msq_assd\u001b[1m)\u001b[0m: inf +- nan\n",
       "Segmentation Quality Relative Volume Difference \u001b[1m(\u001b[0msq_rvd\u001b[1m)\u001b[0m: nan +- nan\n",
       "\n"
      ]
     },
     "metadata": {},
     "output_type": "display_data"
    }
   ],
   "source": [
    "# Convert pred and gt to integer type AFTER assignment\n",
    "pred = pred.astype(np.int32)\n",
    "gt = gt.astype(np.int32)\n",
    "\n",
    "# NAIVE Matching\n",
    "naive_evaluator = Panoptica_Evaluator(\n",
    "    expected_input=InputType.SEMANTIC,\n",
    "    instance_approximator=ConnectedComponentsInstanceApproximator(),\n",
    "    instance_matcher=NaiveThresholdMatching(matching_threshold=0.5),\n",
    ")\n",
    "\n",
    "print(\"Naive Matching\")\n",
    "result = naive_evaluator.evaluate(pred, gt, verbose=False)[\"ungrouped\"]\n",
    "pprint(result)\n",
    "\n",
    "# HUNGRY Matching\n",
    "hungry_evaluator = Panoptica_Evaluator(\n",
    "    expected_input=InputType.SEMANTIC,\n",
    "    instance_approximator=ConnectedComponentsInstanceApproximator(),\n",
    "    instance_matcher=HungryMatching(matching_threshold=0.5),\n",
    ")\n",
    "print(\"\\nHungry Matching\")\n",
    "result = hungry_evaluator.evaluate(pred, gt, verbose=False)[\"ungrouped\"]\n",
    "pprint(result)"
   ]
  },
  {
   "cell_type": "markdown",
   "id": "1ee194b2",
   "metadata": {},
   "source": [
    "## With 0.0 Threshold"
   ]
  },
  {
   "cell_type": "code",
   "execution_count": 4,
   "id": "a0dbeb01",
   "metadata": {},
   "outputs": [
    {
     "name": "stdout",
     "output_type": "stream",
     "text": [
      "Naive Matching\n",
      "ref_label: 2, pred_label: 1, matching_score: 0.3444976076555024\n"
     ]
    },
    {
     "data": {
      "text/html": [
       "<pre style=\"white-space:pre;overflow-x:auto;line-height:normal;font-family:Menlo,'DejaVu Sans Mono',consolas,'Courier New',monospace\">\n",
       "+++ MATCHING +++\n",
       "Number of instances in reference <span style=\"font-weight: bold\">(</span>num_ref_instances<span style=\"font-weight: bold\">)</span>: <span style=\"color: #008080; text-decoration-color: #008080; font-weight: bold\">2</span>\n",
       "Number of instances in prediction <span style=\"font-weight: bold\">(</span>num_pred_instances<span style=\"font-weight: bold\">)</span>: <span style=\"color: #008080; text-decoration-color: #008080; font-weight: bold\">1</span>\n",
       "<span style=\"color: #00ff00; text-decoration-color: #00ff00; font-style: italic\">True</span> Positives <span style=\"font-weight: bold\">(</span>tp<span style=\"font-weight: bold\">)</span>: <span style=\"color: #008080; text-decoration-color: #008080; font-weight: bold\">1</span>\n",
       "<span style=\"color: #ff0000; text-decoration-color: #ff0000; font-style: italic\">False</span> Positives <span style=\"font-weight: bold\">(</span>fp<span style=\"font-weight: bold\">)</span>: <span style=\"color: #008080; text-decoration-color: #008080; font-weight: bold\">0</span>\n",
       "<span style=\"color: #ff0000; text-decoration-color: #ff0000; font-style: italic\">False</span> Negatives <span style=\"font-weight: bold\">(</span>fn<span style=\"font-weight: bold\">)</span>: <span style=\"color: #008080; text-decoration-color: #008080; font-weight: bold\">1</span>\n",
       "Recognition Quality <span style=\"color: #800080; text-decoration-color: #800080\">/</span> F1-Score <span style=\"font-weight: bold\">(</span>rq<span style=\"font-weight: bold\">)</span>: <span style=\"color: #008080; text-decoration-color: #008080; font-weight: bold\">0.6666666666666666</span>\n",
       "\n",
       "+++ GLOBAL +++\n",
       "Global Binary Dice <span style=\"font-weight: bold\">(</span>global_bin_dsc<span style=\"font-weight: bold\">)</span>: <span style=\"color: #008080; text-decoration-color: #008080; font-weight: bold\">0.5892351274787535</span>\n",
       "\n",
       "+++ INSTANCE +++\n",
       "Segmentation Quality IoU <span style=\"font-weight: bold\">(</span>sq<span style=\"font-weight: bold\">)</span>: <span style=\"color: #008080; text-decoration-color: #008080; font-weight: bold\">0.3444976076555024</span> +- <span style=\"color: #008080; text-decoration-color: #008080; font-weight: bold\">0.0</span>\n",
       "Panoptic Quality IoU <span style=\"font-weight: bold\">(</span>pq<span style=\"font-weight: bold\">)</span>: <span style=\"color: #008080; text-decoration-color: #008080; font-weight: bold\">0.22966507177033493</span>\n",
       "Segmentation Quality Dsc <span style=\"font-weight: bold\">(</span>sq_dsc<span style=\"font-weight: bold\">)</span>: <span style=\"color: #008080; text-decoration-color: #008080; font-weight: bold\">0.5124555160142349</span> +- <span style=\"color: #008080; text-decoration-color: #008080; font-weight: bold\">0.0</span>\n",
       "Panoptic Quality Dsc <span style=\"font-weight: bold\">(</span>pq_dsc<span style=\"font-weight: bold\">)</span>: <span style=\"color: #008080; text-decoration-color: #008080; font-weight: bold\">0.3416370106761566</span>\n",
       "Segmentation Quality ASSD <span style=\"font-weight: bold\">(</span>sq_assd<span style=\"font-weight: bold\">)</span>: <span style=\"color: #008080; text-decoration-color: #008080; font-weight: bold\">2.6724199253921057</span> +- <span style=\"color: #008080; text-decoration-color: #008080; font-weight: bold\">0.0</span>\n",
       "Segmentation Quality Relative Volume Difference <span style=\"font-weight: bold\">(</span>sq_rvd<span style=\"font-weight: bold\">)</span>: <span style=\"color: #008080; text-decoration-color: #008080; font-weight: bold\">1.4691358024691359</span> +- <span style=\"color: #008080; text-decoration-color: #008080; font-weight: bold\">0.0</span>\n",
       "\n",
       "</pre>\n"
      ],
      "text/plain": [
       "\n",
       "+++ MATCHING +++\n",
       "Number of instances in reference \u001b[1m(\u001b[0mnum_ref_instances\u001b[1m)\u001b[0m: \u001b[1;36m2\u001b[0m\n",
       "Number of instances in prediction \u001b[1m(\u001b[0mnum_pred_instances\u001b[1m)\u001b[0m: \u001b[1;36m1\u001b[0m\n",
       "\u001b[3;92mTrue\u001b[0m Positives \u001b[1m(\u001b[0mtp\u001b[1m)\u001b[0m: \u001b[1;36m1\u001b[0m\n",
       "\u001b[3;91mFalse\u001b[0m Positives \u001b[1m(\u001b[0mfp\u001b[1m)\u001b[0m: \u001b[1;36m0\u001b[0m\n",
       "\u001b[3;91mFalse\u001b[0m Negatives \u001b[1m(\u001b[0mfn\u001b[1m)\u001b[0m: \u001b[1;36m1\u001b[0m\n",
       "Recognition Quality \u001b[35m/\u001b[0m F1-Score \u001b[1m(\u001b[0mrq\u001b[1m)\u001b[0m: \u001b[1;36m0.6666666666666666\u001b[0m\n",
       "\n",
       "+++ GLOBAL +++\n",
       "Global Binary Dice \u001b[1m(\u001b[0mglobal_bin_dsc\u001b[1m)\u001b[0m: \u001b[1;36m0.5892351274787535\u001b[0m\n",
       "\n",
       "+++ INSTANCE +++\n",
       "Segmentation Quality IoU \u001b[1m(\u001b[0msq\u001b[1m)\u001b[0m: \u001b[1;36m0.3444976076555024\u001b[0m +- \u001b[1;36m0.0\u001b[0m\n",
       "Panoptic Quality IoU \u001b[1m(\u001b[0mpq\u001b[1m)\u001b[0m: \u001b[1;36m0.22966507177033493\u001b[0m\n",
       "Segmentation Quality Dsc \u001b[1m(\u001b[0msq_dsc\u001b[1m)\u001b[0m: \u001b[1;36m0.5124555160142349\u001b[0m +- \u001b[1;36m0.0\u001b[0m\n",
       "Panoptic Quality Dsc \u001b[1m(\u001b[0mpq_dsc\u001b[1m)\u001b[0m: \u001b[1;36m0.3416370106761566\u001b[0m\n",
       "Segmentation Quality ASSD \u001b[1m(\u001b[0msq_assd\u001b[1m)\u001b[0m: \u001b[1;36m2.6724199253921057\u001b[0m +- \u001b[1;36m0.0\u001b[0m\n",
       "Segmentation Quality Relative Volume Difference \u001b[1m(\u001b[0msq_rvd\u001b[1m)\u001b[0m: \u001b[1;36m1.4691358024691359\u001b[0m +- \u001b[1;36m0.0\u001b[0m\n",
       "\n"
      ]
     },
     "metadata": {},
     "output_type": "display_data"
    },
    {
     "name": "stdout",
     "output_type": "stream",
     "text": [
      "\n",
      "Hungry Matching\n",
      "ref_label: 2, pred_label: 1, matching_score: 0.3444976076555024\n",
      "ref_label: 1, pred_label: 1, matching_score: 0.13333333333333333\n"
     ]
    },
    {
     "data": {
      "text/html": [
       "<pre style=\"white-space:pre;overflow-x:auto;line-height:normal;font-family:Menlo,'DejaVu Sans Mono',consolas,'Courier New',monospace\">\n",
       "+++ MATCHING +++\n",
       "Number of instances in reference <span style=\"font-weight: bold\">(</span>num_ref_instances<span style=\"font-weight: bold\">)</span>: <span style=\"color: #008080; text-decoration-color: #008080; font-weight: bold\">2</span>\n",
       "Number of instances in prediction <span style=\"font-weight: bold\">(</span>num_pred_instances<span style=\"font-weight: bold\">)</span>: <span style=\"color: #008080; text-decoration-color: #008080; font-weight: bold\">1</span>\n",
       "<span style=\"color: #00ff00; text-decoration-color: #00ff00; font-style: italic\">True</span> Positives <span style=\"font-weight: bold\">(</span>tp<span style=\"font-weight: bold\">)</span>: <span style=\"color: #008080; text-decoration-color: #008080; font-weight: bold\">1</span>\n",
       "<span style=\"color: #ff0000; text-decoration-color: #ff0000; font-style: italic\">False</span> Positives <span style=\"font-weight: bold\">(</span>fp<span style=\"font-weight: bold\">)</span>: <span style=\"color: #008080; text-decoration-color: #008080; font-weight: bold\">0</span>\n",
       "<span style=\"color: #ff0000; text-decoration-color: #ff0000; font-style: italic\">False</span> Negatives <span style=\"font-weight: bold\">(</span>fn<span style=\"font-weight: bold\">)</span>: <span style=\"color: #008080; text-decoration-color: #008080; font-weight: bold\">1</span>\n",
       "Recognition Quality <span style=\"color: #800080; text-decoration-color: #800080\">/</span> F1-Score <span style=\"font-weight: bold\">(</span>rq<span style=\"font-weight: bold\">)</span>: <span style=\"color: #008080; text-decoration-color: #008080; font-weight: bold\">0.6666666666666666</span>\n",
       "\n",
       "+++ GLOBAL +++\n",
       "Global Binary Dice <span style=\"font-weight: bold\">(</span>global_bin_dsc<span style=\"font-weight: bold\">)</span>: <span style=\"color: #008080; text-decoration-color: #008080; font-weight: bold\">0.5892351274787535</span>\n",
       "\n",
       "+++ INSTANCE +++\n",
       "Segmentation Quality IoU <span style=\"font-weight: bold\">(</span>sq<span style=\"font-weight: bold\">)</span>: <span style=\"color: #008080; text-decoration-color: #008080; font-weight: bold\">0.3444976076555024</span> +- <span style=\"color: #008080; text-decoration-color: #008080; font-weight: bold\">0.0</span>\n",
       "Panoptic Quality IoU <span style=\"font-weight: bold\">(</span>pq<span style=\"font-weight: bold\">)</span>: <span style=\"color: #008080; text-decoration-color: #008080; font-weight: bold\">0.22966507177033493</span>\n",
       "Segmentation Quality Dsc <span style=\"font-weight: bold\">(</span>sq_dsc<span style=\"font-weight: bold\">)</span>: <span style=\"color: #008080; text-decoration-color: #008080; font-weight: bold\">0.5124555160142349</span> +- <span style=\"color: #008080; text-decoration-color: #008080; font-weight: bold\">0.0</span>\n",
       "Panoptic Quality Dsc <span style=\"font-weight: bold\">(</span>pq_dsc<span style=\"font-weight: bold\">)</span>: <span style=\"color: #008080; text-decoration-color: #008080; font-weight: bold\">0.3416370106761566</span>\n",
       "Segmentation Quality ASSD <span style=\"font-weight: bold\">(</span>sq_assd<span style=\"font-weight: bold\">)</span>: <span style=\"color: #008080; text-decoration-color: #008080; font-weight: bold\">2.6724199253921057</span> +- <span style=\"color: #008080; text-decoration-color: #008080; font-weight: bold\">0.0</span>\n",
       "Segmentation Quality Relative Volume Difference <span style=\"font-weight: bold\">(</span>sq_rvd<span style=\"font-weight: bold\">)</span>: <span style=\"color: #008080; text-decoration-color: #008080; font-weight: bold\">1.4691358024691359</span> +- <span style=\"color: #008080; text-decoration-color: #008080; font-weight: bold\">0.0</span>\n",
       "\n",
       "</pre>\n"
      ],
      "text/plain": [
       "\n",
       "+++ MATCHING +++\n",
       "Number of instances in reference \u001b[1m(\u001b[0mnum_ref_instances\u001b[1m)\u001b[0m: \u001b[1;36m2\u001b[0m\n",
       "Number of instances in prediction \u001b[1m(\u001b[0mnum_pred_instances\u001b[1m)\u001b[0m: \u001b[1;36m1\u001b[0m\n",
       "\u001b[3;92mTrue\u001b[0m Positives \u001b[1m(\u001b[0mtp\u001b[1m)\u001b[0m: \u001b[1;36m1\u001b[0m\n",
       "\u001b[3;91mFalse\u001b[0m Positives \u001b[1m(\u001b[0mfp\u001b[1m)\u001b[0m: \u001b[1;36m0\u001b[0m\n",
       "\u001b[3;91mFalse\u001b[0m Negatives \u001b[1m(\u001b[0mfn\u001b[1m)\u001b[0m: \u001b[1;36m1\u001b[0m\n",
       "Recognition Quality \u001b[35m/\u001b[0m F1-Score \u001b[1m(\u001b[0mrq\u001b[1m)\u001b[0m: \u001b[1;36m0.6666666666666666\u001b[0m\n",
       "\n",
       "+++ GLOBAL +++\n",
       "Global Binary Dice \u001b[1m(\u001b[0mglobal_bin_dsc\u001b[1m)\u001b[0m: \u001b[1;36m0.5892351274787535\u001b[0m\n",
       "\n",
       "+++ INSTANCE +++\n",
       "Segmentation Quality IoU \u001b[1m(\u001b[0msq\u001b[1m)\u001b[0m: \u001b[1;36m0.3444976076555024\u001b[0m +- \u001b[1;36m0.0\u001b[0m\n",
       "Panoptic Quality IoU \u001b[1m(\u001b[0mpq\u001b[1m)\u001b[0m: \u001b[1;36m0.22966507177033493\u001b[0m\n",
       "Segmentation Quality Dsc \u001b[1m(\u001b[0msq_dsc\u001b[1m)\u001b[0m: \u001b[1;36m0.5124555160142349\u001b[0m +- \u001b[1;36m0.0\u001b[0m\n",
       "Panoptic Quality Dsc \u001b[1m(\u001b[0mpq_dsc\u001b[1m)\u001b[0m: \u001b[1;36m0.3416370106761566\u001b[0m\n",
       "Segmentation Quality ASSD \u001b[1m(\u001b[0msq_assd\u001b[1m)\u001b[0m: \u001b[1;36m2.6724199253921057\u001b[0m +- \u001b[1;36m0.0\u001b[0m\n",
       "Segmentation Quality Relative Volume Difference \u001b[1m(\u001b[0msq_rvd\u001b[1m)\u001b[0m: \u001b[1;36m1.4691358024691359\u001b[0m +- \u001b[1;36m0.0\u001b[0m\n",
       "\n"
      ]
     },
     "metadata": {},
     "output_type": "display_data"
    }
   ],
   "source": [
    "# Convert pred and gt to integer type AFTER assignment\n",
    "pred = pred.astype(np.int32)\n",
    "gt = gt.astype(np.int32)\n",
    "\n",
    "# NAIVE Matching\n",
    "naive_evaluator = Panoptica_Evaluator(\n",
    "    expected_input=InputType.SEMANTIC,\n",
    "    instance_approximator=ConnectedComponentsInstanceApproximator(),\n",
    "    instance_matcher=NaiveThresholdMatching(matching_threshold=0.0),\n",
    ")\n",
    "\n",
    "print(\"Naive Matching\")\n",
    "result = naive_evaluator.evaluate(pred, gt, verbose=False)[\"ungrouped\"]\n",
    "pprint(result)\n",
    "\n",
    "# HUNGRY Matching\n",
    "hungry_evaluator = Panoptica_Evaluator(\n",
    "    expected_input=InputType.SEMANTIC,\n",
    "    instance_approximator=ConnectedComponentsInstanceApproximator(),\n",
    "    instance_matcher=HungryMatching(matching_threshold=0.0),\n",
    ")\n",
    "print(\"\\nHungry Matching\")\n",
    "result = hungry_evaluator.evaluate(pred, gt, verbose=False)[\"ungrouped\"]\n",
    "pprint(result)"
   ]
  },
  {
   "cell_type": "markdown",
   "id": "0afeba94",
   "metadata": {},
   "source": [
    "# \"Complex\" Binary Example\n",
    "\n",
    "## Notice the difference between the panoptic quality scores"
   ]
  },
  {
   "cell_type": "code",
   "execution_count": 5,
   "id": "4bd59165",
   "metadata": {},
   "outputs": [
    {
     "data": {
      "image/png": "[encoded data removed]",
      "text/plain": [
       "<Figure size 1200x500 with 3 Axes>"
      ]
     },
     "metadata": {},
     "output_type": "display_data"
    }
   ],
   "source": [
    "# Create empty arrays\n",
    "pred = np.zeros((30, 30))\n",
    "gt = np.zeros((30, 30))\n",
    "\n",
    "# Ground truth\n",
    "gt[1:10, 1:10] = 1\n",
    "gt[11:20, 11:20] = 1\n",
    "\n",
    "# Prediction\n",
    "pred[1:3, 1:3] = 1\n",
    "pred[7:13, 7:13] = 1\n",
    "\n",
    "import matplotlib.pyplot as plt\n",
    "\n",
    "fig, ax = plt.subplots(1, 3, figsize=(12, 5))\n",
    "ax[0].imshow(pred, cmap=\"gray\")\n",
    "ax[0].set_title(\"Prediction\")\n",
    "ax[1].imshow(gt, cmap=\"gray\")\n",
    "ax[1].set_title(\"Ground Truth\")\n",
    "ax[2].imshow(pred + gt, cmap=\"gray\")\n",
    "ax[2].set_title(\"Overlay\")\n",
    "plt.show()"
   ]
  },
  {
   "cell_type": "markdown",
   "id": "4bfd4926",
   "metadata": {},
   "source": [
    "## With 0.0 Threshold "
   ]
  },
  {
   "cell_type": "code",
   "execution_count": 6,
   "id": "8945616a",
   "metadata": {},
   "outputs": [
    {
     "name": "stdout",
     "output_type": "stream",
     "text": [
      "Naive Matching\n",
      "ref_label: 1, pred_label: 2, matching_score: 0.08333333333333333\n"
     ]
    },
    {
     "data": {
      "text/html": [
       "<pre style=\"white-space:pre;overflow-x:auto;line-height:normal;font-family:Menlo,'DejaVu Sans Mono',consolas,'Courier New',monospace\">\n",
       "+++ MATCHING +++\n",
       "Number of instances in reference <span style=\"font-weight: bold\">(</span>num_ref_instances<span style=\"font-weight: bold\">)</span>: <span style=\"color: #008080; text-decoration-color: #008080; font-weight: bold\">2</span>\n",
       "Number of instances in prediction <span style=\"font-weight: bold\">(</span>num_pred_instances<span style=\"font-weight: bold\">)</span>: <span style=\"color: #008080; text-decoration-color: #008080; font-weight: bold\">2</span>\n",
       "<span style=\"color: #00ff00; text-decoration-color: #00ff00; font-style: italic\">True</span> Positives <span style=\"font-weight: bold\">(</span>tp<span style=\"font-weight: bold\">)</span>: <span style=\"color: #008080; text-decoration-color: #008080; font-weight: bold\">1</span>\n",
       "<span style=\"color: #ff0000; text-decoration-color: #ff0000; font-style: italic\">False</span> Positives <span style=\"font-weight: bold\">(</span>fp<span style=\"font-weight: bold\">)</span>: <span style=\"color: #008080; text-decoration-color: #008080; font-weight: bold\">1</span>\n",
       "<span style=\"color: #ff0000; text-decoration-color: #ff0000; font-style: italic\">False</span> Negatives <span style=\"font-weight: bold\">(</span>fn<span style=\"font-weight: bold\">)</span>: <span style=\"color: #008080; text-decoration-color: #008080; font-weight: bold\">1</span>\n",
       "Recognition Quality <span style=\"color: #800080; text-decoration-color: #800080\">/</span> F1-Score <span style=\"font-weight: bold\">(</span>rq<span style=\"font-weight: bold\">)</span>: <span style=\"color: #008080; text-decoration-color: #008080; font-weight: bold\">0.5</span>\n",
       "\n",
       "+++ GLOBAL +++\n",
       "Global Binary Dice <span style=\"font-weight: bold\">(</span>global_bin_dsc<span style=\"font-weight: bold\">)</span>: <span style=\"color: #008080; text-decoration-color: #008080; font-weight: bold\">0.16831683168316833</span>\n",
       "\n",
       "+++ INSTANCE +++\n",
       "Segmentation Quality IoU <span style=\"font-weight: bold\">(</span>sq<span style=\"font-weight: bold\">)</span>: <span style=\"color: #008080; text-decoration-color: #008080; font-weight: bold\">0.08333333333333333</span> +- <span style=\"color: #008080; text-decoration-color: #008080; font-weight: bold\">0.0</span>\n",
       "Panoptic Quality IoU <span style=\"font-weight: bold\">(</span>pq<span style=\"font-weight: bold\">)</span>: <span style=\"color: #008080; text-decoration-color: #008080; font-weight: bold\">0.041666666666666664</span>\n",
       "Segmentation Quality Dsc <span style=\"font-weight: bold\">(</span>sq_dsc<span style=\"font-weight: bold\">)</span>: <span style=\"color: #008080; text-decoration-color: #008080; font-weight: bold\">0.15384615384615385</span> +- <span style=\"color: #008080; text-decoration-color: #008080; font-weight: bold\">0.0</span>\n",
       "Panoptic Quality Dsc <span style=\"font-weight: bold\">(</span>pq_dsc<span style=\"font-weight: bold\">)</span>: <span style=\"color: #008080; text-decoration-color: #008080; font-weight: bold\">0.07692307692307693</span>\n",
       "Segmentation Quality ASSD <span style=\"font-weight: bold\">(</span>sq_assd<span style=\"font-weight: bold\">)</span>: <span style=\"color: #008080; text-decoration-color: #008080; font-weight: bold\">3.437567298243609</span> +- <span style=\"color: #008080; text-decoration-color: #008080; font-weight: bold\">0.0</span>\n",
       "Segmentation Quality Relative Volume Difference <span style=\"font-weight: bold\">(</span>sq_rvd<span style=\"font-weight: bold\">)</span>: <span style=\"color: #008080; text-decoration-color: #008080; font-weight: bold\">-0.5555555555555556</span> +- <span style=\"color: #008080; text-decoration-color: #008080; font-weight: bold\">0.0</span>\n",
       "\n",
       "</pre>\n"
      ],
      "text/plain": [
       "\n",
       "+++ MATCHING +++\n",
       "Number of instances in reference \u001b[1m(\u001b[0mnum_ref_instances\u001b[1m)\u001b[0m: \u001b[1;36m2\u001b[0m\n",
       "Number of instances in prediction \u001b[1m(\u001b[0mnum_pred_instances\u001b[1m)\u001b[0m: \u001b[1;36m2\u001b[0m\n",
       "\u001b[3;92mTrue\u001b[0m Positives \u001b[1m(\u001b[0mtp\u001b[1m)\u001b[0m: \u001b[1;36m1\u001b[0m\n",
       "\u001b[3;91mFalse\u001b[0m Positives \u001b[1m(\u001b[0mfp\u001b[1m)\u001b[0m: \u001b[1;36m1\u001b[0m\n",
       "\u001b[3;91mFalse\u001b[0m Negatives \u001b[1m(\u001b[0mfn\u001b[1m)\u001b[0m: \u001b[1;36m1\u001b[0m\n",
       "Recognition Quality \u001b[35m/\u001b[0m F1-Score \u001b[1m(\u001b[0mrq\u001b[1m)\u001b[0m: \u001b[1;36m0.5\u001b[0m\n",
       "\n",
       "+++ GLOBAL +++\n",
       "Global Binary Dice \u001b[1m(\u001b[0mglobal_bin_dsc\u001b[1m)\u001b[0m: \u001b[1;36m0.16831683168316833\u001b[0m\n",
       "\n",
       "+++ INSTANCE +++\n",
       "Segmentation Quality IoU \u001b[1m(\u001b[0msq\u001b[1m)\u001b[0m: \u001b[1;36m0.08333333333333333\u001b[0m +- \u001b[1;36m0.0\u001b[0m\n",
       "Panoptic Quality IoU \u001b[1m(\u001b[0mpq\u001b[1m)\u001b[0m: \u001b[1;36m0.041666666666666664\u001b[0m\n",
       "Segmentation Quality Dsc \u001b[1m(\u001b[0msq_dsc\u001b[1m)\u001b[0m: \u001b[1;36m0.15384615384615385\u001b[0m +- \u001b[1;36m0.0\u001b[0m\n",
       "Panoptic Quality Dsc \u001b[1m(\u001b[0mpq_dsc\u001b[1m)\u001b[0m: \u001b[1;36m0.07692307692307693\u001b[0m\n",
       "Segmentation Quality ASSD \u001b[1m(\u001b[0msq_assd\u001b[1m)\u001b[0m: \u001b[1;36m3.437567298243609\u001b[0m +- \u001b[1;36m0.0\u001b[0m\n",
       "Segmentation Quality Relative Volume Difference \u001b[1m(\u001b[0msq_rvd\u001b[1m)\u001b[0m: \u001b[1;36m-0.5555555555555556\u001b[0m +- \u001b[1;36m0.0\u001b[0m\n",
       "\n"
      ]
     },
     "metadata": {},
     "output_type": "display_data"
    },
    {
     "name": "stdout",
     "output_type": "stream",
     "text": [
      "\n",
      "Hungry Matching\n",
      "ref_label: 1, pred_label: 2, matching_score: 0.08333333333333333\n",
      "ref_label: 1, pred_label: 1, matching_score: 0.04938271604938271\n",
      "ref_label: 2, pred_label: 2, matching_score: 0.035398230088495575\n"
     ]
    },
    {
     "data": {
      "text/html": [
       "<pre style=\"white-space:pre;overflow-x:auto;line-height:normal;font-family:Menlo,'DejaVu Sans Mono',consolas,'Courier New',monospace\">\n",
       "+++ MATCHING +++\n",
       "Number of instances in reference <span style=\"font-weight: bold\">(</span>num_ref_instances<span style=\"font-weight: bold\">)</span>: <span style=\"color: #008080; text-decoration-color: #008080; font-weight: bold\">2</span>\n",
       "Number of instances in prediction <span style=\"font-weight: bold\">(</span>num_pred_instances<span style=\"font-weight: bold\">)</span>: <span style=\"color: #008080; text-decoration-color: #008080; font-weight: bold\">2</span>\n",
       "<span style=\"color: #00ff00; text-decoration-color: #00ff00; font-style: italic\">True</span> Positives <span style=\"font-weight: bold\">(</span>tp<span style=\"font-weight: bold\">)</span>: <span style=\"color: #008080; text-decoration-color: #008080; font-weight: bold\">2</span>\n",
       "<span style=\"color: #ff0000; text-decoration-color: #ff0000; font-style: italic\">False</span> Positives <span style=\"font-weight: bold\">(</span>fp<span style=\"font-weight: bold\">)</span>: <span style=\"color: #008080; text-decoration-color: #008080; font-weight: bold\">0</span>\n",
       "<span style=\"color: #ff0000; text-decoration-color: #ff0000; font-style: italic\">False</span> Negatives <span style=\"font-weight: bold\">(</span>fn<span style=\"font-weight: bold\">)</span>: <span style=\"color: #008080; text-decoration-color: #008080; font-weight: bold\">0</span>\n",
       "Recognition Quality <span style=\"color: #800080; text-decoration-color: #800080\">/</span> F1-Score <span style=\"font-weight: bold\">(</span>rq<span style=\"font-weight: bold\">)</span>: <span style=\"color: #008080; text-decoration-color: #008080; font-weight: bold\">1.0</span>\n",
       "\n",
       "+++ GLOBAL +++\n",
       "Global Binary Dice <span style=\"font-weight: bold\">(</span>global_bin_dsc<span style=\"font-weight: bold\">)</span>: <span style=\"color: #008080; text-decoration-color: #008080; font-weight: bold\">0.16831683168316833</span>\n",
       "\n",
       "+++ INSTANCE +++\n",
       "Segmentation Quality IoU <span style=\"font-weight: bold\">(</span>sq<span style=\"font-weight: bold\">)</span>: <span style=\"color: #008080; text-decoration-color: #008080; font-weight: bold\">0.042390473068939144</span> +- <span style=\"color: #008080; text-decoration-color: #008080; font-weight: bold\">0.006992242980443569</span>\n",
       "Panoptic Quality IoU <span style=\"font-weight: bold\">(</span>pq<span style=\"font-weight: bold\">)</span>: <span style=\"color: #008080; text-decoration-color: #008080; font-weight: bold\">0.042390473068939144</span>\n",
       "Segmentation Quality Dsc <span style=\"font-weight: bold\">(</span>sq_dsc<span style=\"font-weight: bold\">)</span>: <span style=\"color: #008080; text-decoration-color: #008080; font-weight: bold\">0.08124685771744596</span> +- <span style=\"color: #008080; text-decoration-color: #008080; font-weight: bold\">0.012870789341377573</span>\n",
       "Panoptic Quality Dsc <span style=\"font-weight: bold\">(</span>pq_dsc<span style=\"font-weight: bold\">)</span>: <span style=\"color: #008080; text-decoration-color: #008080; font-weight: bold\">0.08124685771744596</span>\n",
       "Segmentation Quality ASSD <span style=\"font-weight: bold\">(</span>sq_assd<span style=\"font-weight: bold\">)</span>: <span style=\"color: #008080; text-decoration-color: #008080; font-weight: bold\">3.587180022257517</span> +- <span style=\"color: #008080; text-decoration-color: #008080; font-weight: bold\">0.7184042176340859</span>\n",
       "Segmentation Quality Relative Volume Difference <span style=\"font-weight: bold\">(</span>sq_rvd<span style=\"font-weight: bold\">)</span>: <span style=\"color: #008080; text-decoration-color: #008080; font-weight: bold\">-0.7530864197530864</span> +- <span style=\"color: #008080; text-decoration-color: #008080; font-weight: bold\">0.19753086419753085</span>\n",
       "\n",
       "</pre>\n"
      ],
      "text/plain": [
       "\n",
       "+++ MATCHING +++\n",
       "Number of instances in reference \u001b[1m(\u001b[0mnum_ref_instances\u001b[1m)\u001b[0m: \u001b[1;36m2\u001b[0m\n",
       "Number of instances in prediction \u001b[1m(\u001b[0mnum_pred_instances\u001b[1m)\u001b[0m: \u001b[1;36m2\u001b[0m\n",
       "\u001b[3;92mTrue\u001b[0m Positives \u001b[1m(\u001b[0mtp\u001b[1m)\u001b[0m: \u001b[1;36m2\u001b[0m\n",
       "\u001b[3;91mFalse\u001b[0m Positives \u001b[1m(\u001b[0mfp\u001b[1m)\u001b[0m: \u001b[1;36m0\u001b[0m\n",
       "\u001b[3;91mFalse\u001b[0m Negatives \u001b[1m(\u001b[0mfn\u001b[1m)\u001b[0m: \u001b[1;36m0\u001b[0m\n",
       "Recognition Quality \u001b[35m/\u001b[0m F1-Score \u001b[1m(\u001b[0mrq\u001b[1m)\u001b[0m: \u001b[1;36m1.0\u001b[0m\n",
       "\n",
       "+++ GLOBAL +++\n",
       "Global Binary Dice \u001b[1m(\u001b[0mglobal_bin_dsc\u001b[1m)\u001b[0m: \u001b[1;36m0.16831683168316833\u001b[0m\n",
       "\n",
       "+++ INSTANCE +++\n",
       "Segmentation Quality IoU \u001b[1m(\u001b[0msq\u001b[1m)\u001b[0m: \u001b[1;36m0.042390473068939144\u001b[0m +- \u001b[1;36m0.006992242980443569\u001b[0m\n",
       "Panoptic Quality IoU \u001b[1m(\u001b[0mpq\u001b[1m)\u001b[0m: \u001b[1;36m0.042390473068939144\u001b[0m\n",
       "Segmentation Quality Dsc \u001b[1m(\u001b[0msq_dsc\u001b[1m)\u001b[0m: \u001b[1;36m0.08124685771744596\u001b[0m +- \u001b[1;36m0.012870789341377573\u001b[0m\n",
       "Panoptic Quality Dsc \u001b[1m(\u001b[0mpq_dsc\u001b[1m)\u001b[0m: \u001b[1;36m0.08124685771744596\u001b[0m\n",
       "Segmentation Quality ASSD \u001b[1m(\u001b[0msq_assd\u001b[1m)\u001b[0m: \u001b[1;36m3.587180022257517\u001b[0m +- \u001b[1;36m0.7184042176340859\u001b[0m\n",
       "Segmentation Quality Relative Volume Difference \u001b[1m(\u001b[0msq_rvd\u001b[1m)\u001b[0m: \u001b[1;36m-0.7530864197530864\u001b[0m +- \u001b[1;36m0.19753086419753085\u001b[0m\n",
       "\n"
      ]
     },
     "metadata": {},
     "output_type": "display_data"
    }
   ],
   "source": [
    "# Convert pred and gt to integer type AFTER assignment\n",
    "pred = pred.astype(np.int32)\n",
    "gt = gt.astype(np.int32)\n",
    "\n",
    "# NAIVE Matching\n",
    "naive_evaluator = Panoptica_Evaluator(\n",
    "    expected_input=InputType.SEMANTIC,\n",
    "    instance_approximator=ConnectedComponentsInstanceApproximator(),\n",
    "    instance_matcher=NaiveThresholdMatching(matching_threshold=0.0),\n",
    ")\n",
    "\n",
    "print(\"Naive Matching\")\n",
    "result = naive_evaluator.evaluate(pred, gt, verbose=False)[\"ungrouped\"]\n",
    "pprint(result)\n",
    "\n",
    "# HUNGRY Matching\n",
    "hungry_evaluator = Panoptica_Evaluator(\n",
    "    expected_input=InputType.SEMANTIC,\n",
    "    instance_approximator=ConnectedComponentsInstanceApproximator(),\n",
    "    instance_matcher=HungryMatching(matching_threshold=0.0),\n",
    ")\n",
    "print(\"\\nHungry Matching\")\n",
    "result = hungry_evaluator.evaluate(pred, gt, verbose=False)[\"ungrouped\"]\n",
    "pprint(result)"
   ]
  }
 ],
 "metadata": {
  "kernelspec": {
   "display_name": "panop",
   "language": "python",
   "name": "python3"
  },
  "language_info": {
   "codemirror_mode": {
    "name": "ipython",
    "version": 3
   },
   "file_extension": ".py",
   "mimetype": "text/x-python",
   "name": "python",
   "nbconvert_exporter": "python",
   "pygments_lexer": "ipython3",
   "version": "3.12.9"
  }
 },
 "nbformat": 4,
 "nbformat_minor": 5
}
