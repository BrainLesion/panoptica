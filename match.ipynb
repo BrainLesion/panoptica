{
 "cells": [
  {
   "cell_type": "markdown",
   "id": "55d7cd7c",
   "metadata": {},
   "source": [
    "# Simple Binary Example "
   ]
  },
  {
   "cell_type": "markdown",
   "id": "052f7a64",
   "metadata": {},
   "source": [
    "## With 0.5 Threshold"
   ]
  },
  {
   "cell_type": "code",
   "execution_count": 1,
   "id": "76f0a9f4",
   "metadata": {},
   "outputs": [
    {
     "data": {
      "image/png": "[encoded data removed]",
      "text/plain": [
       "<Figure size 1000x500 with 3 Axes>"
      ]
     },
     "metadata": {},
     "output_type": "display_data"
    }
   ],
   "source": [
    "#Imports\n",
    "import numpy as np\n",
    "\n",
    "from rich import print as pprint\n",
    "from panoptica import (\n",
    "    InputType,\n",
    "    Panoptica_Evaluator,\n",
    "    ConnectedComponentsInstanceApproximator,\n",
    "    NaiveThresholdMatching, HungryMatching\n",
    ")\n",
    "\n",
    "# Create empty arrays\n",
    "pred = np.zeros((40, 40))\n",
    "gt = np.zeros((40, 40))\n",
    "\n",
    "# Reference objects (ground truth)\n",
    "gt[1:10, 6:14] = 1\n",
    "gt[1:10, 15:24] = 1\n",
    "\n",
    "pred[2:12, 10:30] = 1\n",
    "\n",
    "import matplotlib.pyplot as plt\n",
    "fig, ax = plt.subplots(1, 3, figsize=(10, 5))\n",
    "ax[0].imshow(pred, cmap='gray')\n",
    "ax[0].set_title('Pred')\n",
    "ax[1].imshow(gt, cmap='gray')\n",
    "ax[1].set_title('GT')\n",
    "ax[2].imshow(pred + gt, cmap='gray')\n",
    "ax[2].set_title('Overlay')\n",
    "plt.show()"
   ]
  },
  {
   "cell_type": "code",
   "execution_count": 2,
   "id": "7b2fb825",
   "metadata": {},
   "outputs": [
    {
     "name": "stdout",
     "output_type": "stream",
     "text": [
      "Naive Matching\n"
     ]
    },
    {
     "data": {
      "text/html": [
       "<pre style=\"white-space:pre;overflow-x:auto;line-height:normal;font-family:Menlo,'DejaVu Sans Mono',consolas,'Courier New',monospace\">\n",
       "+++ MATCHING +++\n",
       "Number of instances in reference <span style=\"font-weight: bold\">(</span>num_ref_instances<span style=\"font-weight: bold\">)</span>: <span style=\"color: #008080; text-decoration-color: #008080; font-weight: bold\">2</span>\n",
       "Number of instances in prediction <span style=\"font-weight: bold\">(</span>num_pred_instances<span style=\"font-weight: bold\">)</span>: <span style=\"color: #008080; text-decoration-color: #008080; font-weight: bold\">1</span>\n",
       "<span style=\"color: #00ff00; text-decoration-color: #00ff00; font-style: italic\">True</span> Positives <span style=\"font-weight: bold\">(</span>tp<span style=\"font-weight: bold\">)</span>: <span style=\"color: #008080; text-decoration-color: #008080; font-weight: bold\">0</span>\n",
       "<span style=\"color: #ff0000; text-decoration-color: #ff0000; font-style: italic\">False</span> Positives <span style=\"font-weight: bold\">(</span>fp<span style=\"font-weight: bold\">)</span>: <span style=\"color: #008080; text-decoration-color: #008080; font-weight: bold\">1</span>\n",
       "<span style=\"color: #ff0000; text-decoration-color: #ff0000; font-style: italic\">False</span> Negatives <span style=\"font-weight: bold\">(</span>fn<span style=\"font-weight: bold\">)</span>: <span style=\"color: #008080; text-decoration-color: #008080; font-weight: bold\">2</span>\n",
       "Recognition Quality <span style=\"color: #800080; text-decoration-color: #800080\">/</span> F1-Score <span style=\"font-weight: bold\">(</span>rq<span style=\"font-weight: bold\">)</span>: <span style=\"color: #008080; text-decoration-color: #008080; font-weight: bold\">0.0</span>\n",
       "\n",
       "+++ GLOBAL +++\n",
       "Global Binary Dice <span style=\"font-weight: bold\">(</span>global_bin_dsc<span style=\"font-weight: bold\">)</span>: <span style=\"color: #008080; text-decoration-color: #008080; font-weight: bold\">0.5892351274787535</span>\n",
       "\n",
       "+++ INSTANCE +++\n",
       "Segmentation Quality IoU <span style=\"font-weight: bold\">(</span>sq<span style=\"font-weight: bold\">)</span>: <span style=\"color: #008080; text-decoration-color: #008080; font-weight: bold\">0.0</span> +- nan\n",
       "Panoptic Quality IoU <span style=\"font-weight: bold\">(</span>pq<span style=\"font-weight: bold\">)</span>: <span style=\"color: #008080; text-decoration-color: #008080; font-weight: bold\">0.0</span>\n",
       "Segmentation Quality Dsc <span style=\"font-weight: bold\">(</span>sq_dsc<span style=\"font-weight: bold\">)</span>: <span style=\"color: #008080; text-decoration-color: #008080; font-weight: bold\">0.0</span> +- nan\n",
       "Panoptic Quality Dsc <span style=\"font-weight: bold\">(</span>pq_dsc<span style=\"font-weight: bold\">)</span>: <span style=\"color: #008080; text-decoration-color: #008080; font-weight: bold\">0.0</span>\n",
       "Segmentation Quality ASSD <span style=\"font-weight: bold\">(</span>sq_assd<span style=\"font-weight: bold\">)</span>: inf +- nan\n",
       "Segmentation Quality Relative Volume Difference <span style=\"font-weight: bold\">(</span>sq_rvd<span style=\"font-weight: bold\">)</span>: nan +- nan\n",
       "\n",
       "</pre>\n"
      ],
      "text/plain": [
       "\n",
       "+++ MATCHING +++\n",
       "Number of instances in reference \u001b[1m(\u001b[0mnum_ref_instances\u001b[1m)\u001b[0m: \u001b[1;36m2\u001b[0m\n",
       "Number of instances in prediction \u001b[1m(\u001b[0mnum_pred_instances\u001b[1m)\u001b[0m: \u001b[1;36m1\u001b[0m\n",
       "\u001b[3;92mTrue\u001b[0m Positives \u001b[1m(\u001b[0mtp\u001b[1m)\u001b[0m: \u001b[1;36m0\u001b[0m\n",
       "\u001b[3;91mFalse\u001b[0m Positives \u001b[1m(\u001b[0mfp\u001b[1m)\u001b[0m: \u001b[1;36m1\u001b[0m\n",
       "\u001b[3;91mFalse\u001b[0m Negatives \u001b[1m(\u001b[0mfn\u001b[1m)\u001b[0m: \u001b[1;36m2\u001b[0m\n",
       "Recognition Quality \u001b[35m/\u001b[0m F1-Score \u001b[1m(\u001b[0mrq\u001b[1m)\u001b[0m: \u001b[1;36m0.0\u001b[0m\n",
       "\n",
       "+++ GLOBAL +++\n",
       "Global Binary Dice \u001b[1m(\u001b[0mglobal_bin_dsc\u001b[1m)\u001b[0m: \u001b[1;36m0.5892351274787535\u001b[0m\n",
       "\n",
       "+++ INSTANCE +++\n",
       "Segmentation Quality IoU \u001b[1m(\u001b[0msq\u001b[1m)\u001b[0m: \u001b[1;36m0.0\u001b[0m +- nan\n",
       "Panoptic Quality IoU \u001b[1m(\u001b[0mpq\u001b[1m)\u001b[0m: \u001b[1;36m0.0\u001b[0m\n",
       "Segmentation Quality Dsc \u001b[1m(\u001b[0msq_dsc\u001b[1m)\u001b[0m: \u001b[1;36m0.0\u001b[0m +- nan\n",
       "Panoptic Quality Dsc \u001b[1m(\u001b[0mpq_dsc\u001b[1m)\u001b[0m: \u001b[1;36m0.0\u001b[0m\n",
       "Segmentation Quality ASSD \u001b[1m(\u001b[0msq_assd\u001b[1m)\u001b[0m: inf +- nan\n",
       "Segmentation Quality Relative Volume Difference \u001b[1m(\u001b[0msq_rvd\u001b[1m)\u001b[0m: nan +- nan\n",
       "\n"
      ]
     },
     "metadata": {},
     "output_type": "display_data"
    },
    {
     "name": "stdout",
     "output_type": "stream",
     "text": [
      "\n",
      "Hungry Matching\n"
     ]
    },
    {
     "data": {
      "text/html": [
       "<pre style=\"white-space:pre;overflow-x:auto;line-height:normal;font-family:Menlo,'DejaVu Sans Mono',consolas,'Courier New',monospace\">\n",
       "+++ MATCHING +++\n",
       "Number of instances in reference <span style=\"font-weight: bold\">(</span>num_ref_instances<span style=\"font-weight: bold\">)</span>: <span style=\"color: #008080; text-decoration-color: #008080; font-weight: bold\">2</span>\n",
       "Number of instances in prediction <span style=\"font-weight: bold\">(</span>num_pred_instances<span style=\"font-weight: bold\">)</span>: <span style=\"color: #008080; text-decoration-color: #008080; font-weight: bold\">1</span>\n",
       "<span style=\"color: #00ff00; text-decoration-color: #00ff00; font-style: italic\">True</span> Positives <span style=\"font-weight: bold\">(</span>tp<span style=\"font-weight: bold\">)</span>: <span style=\"color: #008080; text-decoration-color: #008080; font-weight: bold\">1</span>\n",
       "<span style=\"color: #ff0000; text-decoration-color: #ff0000; font-style: italic\">False</span> Positives <span style=\"font-weight: bold\">(</span>fp<span style=\"font-weight: bold\">)</span>: <span style=\"color: #008080; text-decoration-color: #008080; font-weight: bold\">0</span>\n",
       "<span style=\"color: #ff0000; text-decoration-color: #ff0000; font-style: italic\">False</span> Negatives <span style=\"font-weight: bold\">(</span>fn<span style=\"font-weight: bold\">)</span>: <span style=\"color: #008080; text-decoration-color: #008080; font-weight: bold\">1</span>\n",
       "Recognition Quality <span style=\"color: #800080; text-decoration-color: #800080\">/</span> F1-Score <span style=\"font-weight: bold\">(</span>rq<span style=\"font-weight: bold\">)</span>: <span style=\"color: #008080; text-decoration-color: #008080; font-weight: bold\">0.6666666666666666</span>\n",
       "\n",
       "+++ GLOBAL +++\n",
       "Global Binary Dice <span style=\"font-weight: bold\">(</span>global_bin_dsc<span style=\"font-weight: bold\">)</span>: <span style=\"color: #008080; text-decoration-color: #008080; font-weight: bold\">0.5892351274787535</span>\n",
       "\n",
       "+++ INSTANCE +++\n",
       "Segmentation Quality IoU <span style=\"font-weight: bold\">(</span>sq<span style=\"font-weight: bold\">)</span>: <span style=\"color: #008080; text-decoration-color: #008080; font-weight: bold\">0.3444976076555024</span> +- <span style=\"color: #008080; text-decoration-color: #008080; font-weight: bold\">0.0</span>\n",
       "Panoptic Quality IoU <span style=\"font-weight: bold\">(</span>pq<span style=\"font-weight: bold\">)</span>: <span style=\"color: #008080; text-decoration-color: #008080; font-weight: bold\">0.22966507177033493</span>\n",
       "Segmentation Quality Dsc <span style=\"font-weight: bold\">(</span>sq_dsc<span style=\"font-weight: bold\">)</span>: <span style=\"color: #008080; text-decoration-color: #008080; font-weight: bold\">0.5124555160142349</span> +- <span style=\"color: #008080; text-decoration-color: #008080; font-weight: bold\">0.0</span>\n",
       "Panoptic Quality Dsc <span style=\"font-weight: bold\">(</span>pq_dsc<span style=\"font-weight: bold\">)</span>: <span style=\"color: #008080; text-decoration-color: #008080; font-weight: bold\">0.3416370106761566</span>\n",
       "Segmentation Quality ASSD <span style=\"font-weight: bold\">(</span>sq_assd<span style=\"font-weight: bold\">)</span>: <span style=\"color: #008080; text-decoration-color: #008080; font-weight: bold\">2.6724199253921057</span> +- <span style=\"color: #008080; text-decoration-color: #008080; font-weight: bold\">0.0</span>\n",
       "Segmentation Quality Relative Volume Difference <span style=\"font-weight: bold\">(</span>sq_rvd<span style=\"font-weight: bold\">)</span>: <span style=\"color: #008080; text-decoration-color: #008080; font-weight: bold\">1.4691358024691359</span> +- <span style=\"color: #008080; text-decoration-color: #008080; font-weight: bold\">0.0</span>\n",
       "\n",
       "</pre>\n"
      ],
      "text/plain": [
       "\n",
       "+++ MATCHING +++\n",
       "Number of instances in reference \u001b[1m(\u001b[0mnum_ref_instances\u001b[1m)\u001b[0m: \u001b[1;36m2\u001b[0m\n",
       "Number of instances in prediction \u001b[1m(\u001b[0mnum_pred_instances\u001b[1m)\u001b[0m: \u001b[1;36m1\u001b[0m\n",
       "\u001b[3;92mTrue\u001b[0m Positives \u001b[1m(\u001b[0mtp\u001b[1m)\u001b[0m: \u001b[1;36m1\u001b[0m\n",
       "\u001b[3;91mFalse\u001b[0m Positives \u001b[1m(\u001b[0mfp\u001b[1m)\u001b[0m: \u001b[1;36m0\u001b[0m\n",
       "\u001b[3;91mFalse\u001b[0m Negatives \u001b[1m(\u001b[0mfn\u001b[1m)\u001b[0m: \u001b[1;36m1\u001b[0m\n",
       "Recognition Quality \u001b[35m/\u001b[0m F1-Score \u001b[1m(\u001b[0mrq\u001b[1m)\u001b[0m: \u001b[1;36m0.6666666666666666\u001b[0m\n",
       "\n",
       "+++ GLOBAL +++\n",
       "Global Binary Dice \u001b[1m(\u001b[0mglobal_bin_dsc\u001b[1m)\u001b[0m: \u001b[1;36m0.5892351274787535\u001b[0m\n",
       "\n",
       "+++ INSTANCE +++\n",
       "Segmentation Quality IoU \u001b[1m(\u001b[0msq\u001b[1m)\u001b[0m: \u001b[1;36m0.3444976076555024\u001b[0m +- \u001b[1;36m0.0\u001b[0m\n",
       "Panoptic Quality IoU \u001b[1m(\u001b[0mpq\u001b[1m)\u001b[0m: \u001b[1;36m0.22966507177033493\u001b[0m\n",
       "Segmentation Quality Dsc \u001b[1m(\u001b[0msq_dsc\u001b[1m)\u001b[0m: \u001b[1;36m0.5124555160142349\u001b[0m +- \u001b[1;36m0.0\u001b[0m\n",
       "Panoptic Quality Dsc \u001b[1m(\u001b[0mpq_dsc\u001b[1m)\u001b[0m: \u001b[1;36m0.3416370106761566\u001b[0m\n",
       "Segmentation Quality ASSD \u001b[1m(\u001b[0msq_assd\u001b[1m)\u001b[0m: \u001b[1;36m2.6724199253921057\u001b[0m +- \u001b[1;36m0.0\u001b[0m\n",
       "Segmentation Quality Relative Volume Difference \u001b[1m(\u001b[0msq_rvd\u001b[1m)\u001b[0m: \u001b[1;36m1.4691358024691359\u001b[0m +- \u001b[1;36m0.0\u001b[0m\n",
       "\n"
      ]
     },
     "metadata": {},
     "output_type": "display_data"
    }
   ],
   "source": [
    "# Convert pred and gt to integer type AFTER assignment\n",
    "pred = pred.astype(np.int32)\n",
    "gt = gt.astype(np.int32)\n",
    "\n",
    "# NAIVE Matching\n",
    "naive_evaluator = Panoptica_Evaluator(\n",
    "    expected_input=InputType.SEMANTIC,\n",
    "    instance_approximator=ConnectedComponentsInstanceApproximator(),\n",
    "    instance_matcher=NaiveThresholdMatching(matching_threshold=0.5),\n",
    ")\n",
    "\n",
    "print(\"Naive Matching\")\n",
    "result = naive_evaluator.evaluate(pred, gt, verbose=False)[\"ungrouped\"]\n",
    "pprint(result)\n",
    "\n",
    "# HUNGRY Matching\n",
    "hungry_evaluator = Panoptica_Evaluator(\n",
    "    expected_input=InputType.SEMANTIC,\n",
    "    instance_approximator=ConnectedComponentsInstanceApproximator(),\n",
    "    instance_matcher=HungryMatching(matching_threshold=0.1),\n",
    ")\n",
    "print(\"\\nHungry Matching\")\n",
    "result = hungry_evaluator.evaluate(pred, gt, verbose=False)[\"ungrouped\"]\n",
    "pprint(result)"
   ]
  },
  {
   "cell_type": "markdown",
   "id": "1ee194b2",
   "metadata": {},
   "source": [
    "## With 0.1 Threshold\n",
    "\n",
    "### Notice Naive Matching Breaks"
   ]
  },
  {
   "cell_type": "code",
   "execution_count": 5,
   "id": "a0dbeb01",
   "metadata": {},
   "outputs": [
    {
     "name": "stdout",
     "output_type": "stream",
     "text": [
      "Naive Matching\n"
     ]
    },
    {
     "ename": "Exception",
     "evalue": "You are mapping a prediction label to a reference label that was already assigned differently, got <bound method InstanceLabelMap.__str__ of ['(1,) -> 2']> and you tried [1], 1",
     "output_type": "error",
     "traceback": [
      "\u001b[31m---------------------------------------------------------------------------\u001b[39m",
      "\u001b[31mException\u001b[39m                                 Traceback (most recent call last)",
      "\u001b[36mCell\u001b[39m\u001b[36m \u001b[39m\u001b[32mIn[5]\u001b[39m\u001b[32m, line 13\u001b[39m\n\u001b[32m      6\u001b[39m naive_evaluator = Panoptica_Evaluator(\n\u001b[32m      7\u001b[39m     expected_input=InputType.SEMANTIC,\n\u001b[32m      8\u001b[39m     instance_approximator=ConnectedComponentsInstanceApproximator(),\n\u001b[32m      9\u001b[39m     instance_matcher=NaiveThresholdMatching(matching_threshold=\u001b[32m0.1\u001b[39m),\n\u001b[32m     10\u001b[39m )\n\u001b[32m     12\u001b[39m \u001b[38;5;28mprint\u001b[39m(\u001b[33m\"\u001b[39m\u001b[33mNaive Matching\u001b[39m\u001b[33m\"\u001b[39m)\n\u001b[32m---> \u001b[39m\u001b[32m13\u001b[39m result = \u001b[43mnaive_evaluator\u001b[49m\u001b[43m.\u001b[49m\u001b[43mevaluate\u001b[49m\u001b[43m(\u001b[49m\u001b[43mpred\u001b[49m\u001b[43m,\u001b[49m\u001b[43m \u001b[49m\u001b[43mgt\u001b[49m\u001b[43m,\u001b[49m\u001b[43m \u001b[49m\u001b[43mverbose\u001b[49m\u001b[43m=\u001b[49m\u001b[38;5;28;43;01mFalse\u001b[39;49;00m\u001b[43m)\u001b[49m[\u001b[33m\"\u001b[39m\u001b[33mungrouped\u001b[39m\u001b[33m\"\u001b[39m]\n\u001b[32m     14\u001b[39m pprint(result)\n",
      "\u001b[36mFile \u001b[39m\u001b[32m~/panoptica/panoptica/utils/timing.py:9\u001b[39m, in \u001b[36mmeasure_time.<locals>.wrapper\u001b[39m\u001b[34m(*args, **kwargs)\u001b[39m\n\u001b[32m      7\u001b[39m \u001b[38;5;28;01mdef\u001b[39;00m\u001b[38;5;250m \u001b[39m\u001b[34mwrapper\u001b[39m(*args, **kwargs):\n\u001b[32m      8\u001b[39m     start_time = time.time()\n\u001b[32m----> \u001b[39m\u001b[32m9\u001b[39m     result = \u001b[43mfunc\u001b[49m\u001b[43m(\u001b[49m\u001b[43m*\u001b[49m\u001b[43margs\u001b[49m\u001b[43m,\u001b[49m\u001b[43m \u001b[49m\u001b[43m*\u001b[49m\u001b[43m*\u001b[49m\u001b[43mkwargs\u001b[49m\u001b[43m)\u001b[49m\n\u001b[32m     10\u001b[39m     end_time = time.time()\n\u001b[32m     11\u001b[39m     elapsed_time = end_time - start_time\n",
      "\u001b[36mFile \u001b[39m\u001b[32m~/panoptica/panoptica/panoptica_evaluator.py:138\u001b[39m, in \u001b[36mPanoptica_Evaluator.evaluate\u001b[39m\u001b[34m(self, prediction_arr, reference_arr, result_all, save_group_times, log_times, verbose)\u001b[39m\n\u001b[32m    136\u001b[39m result_grouped: \u001b[38;5;28mdict\u001b[39m[\u001b[38;5;28mstr\u001b[39m, PanopticaResult] = {}\n\u001b[32m    137\u001b[39m \u001b[38;5;28;01mfor\u001b[39;00m group_name, label_group \u001b[38;5;129;01min\u001b[39;00m \u001b[38;5;28mself\u001b[39m.__segmentation_class_groups.items():\n\u001b[32m--> \u001b[39m\u001b[32m138\u001b[39m     result_grouped[group_name] = \u001b[38;5;28;43mself\u001b[39;49m\u001b[43m.\u001b[49m\u001b[43m_evaluate_group\u001b[49m\u001b[43m(\u001b[49m\n\u001b[32m    139\u001b[39m \u001b[43m        \u001b[49m\u001b[43mgroup_name\u001b[49m\u001b[43m,\u001b[49m\n\u001b[32m    140\u001b[39m \u001b[43m        \u001b[49m\u001b[43mlabel_group\u001b[49m\u001b[43m,\u001b[49m\n\u001b[32m    141\u001b[39m \u001b[43m        \u001b[49m\u001b[43mprocessing_pair\u001b[49m\u001b[43m,\u001b[49m\n\u001b[32m    142\u001b[39m \u001b[43m        \u001b[49m\u001b[43mresult_all\u001b[49m\u001b[43m,\u001b[49m\n\u001b[32m    143\u001b[39m \u001b[43m        \u001b[49m\u001b[43msave_group_times\u001b[49m\u001b[43m=\u001b[49m\u001b[43m(\u001b[49m\n\u001b[32m    144\u001b[39m \u001b[43m            \u001b[49m\u001b[38;5;28;43mself\u001b[39;49m\u001b[43m.\u001b[49m\u001b[43m__save_group_times\u001b[49m\n\u001b[32m    145\u001b[39m \u001b[43m            \u001b[49m\u001b[38;5;28;43;01mif\u001b[39;49;00m\u001b[43m \u001b[49m\u001b[43msave_group_times\u001b[49m\u001b[43m \u001b[49m\u001b[38;5;129;43;01mis\u001b[39;49;00m\u001b[43m \u001b[49m\u001b[38;5;28;43;01mNone\u001b[39;49;00m\n\u001b[32m    146\u001b[39m \u001b[43m            \u001b[49m\u001b[38;5;28;43;01melse\u001b[39;49;00m\u001b[43m \u001b[49m\u001b[43msave_group_times\u001b[49m\n\u001b[32m    147\u001b[39m \u001b[43m        \u001b[49m\u001b[43m)\u001b[49m\u001b[43m,\u001b[49m\n\u001b[32m    148\u001b[39m \u001b[43m        \u001b[49m\u001b[43mlog_times\u001b[49m\u001b[43m=\u001b[49m\u001b[43mlog_times\u001b[49m\u001b[43m,\u001b[49m\n\u001b[32m    149\u001b[39m \u001b[43m        \u001b[49m\u001b[43mverbose\u001b[49m\u001b[43m=\u001b[49m\u001b[43mverbose\u001b[49m\u001b[43m,\u001b[49m\n\u001b[32m    150\u001b[39m \u001b[43m    \u001b[49m\u001b[43m)\u001b[49m\n\u001b[32m    151\u001b[39m \u001b[38;5;28;01mreturn\u001b[39;00m result_grouped\n",
      "\u001b[36mFile \u001b[39m\u001b[32m~/panoptica/panoptica/panoptica_evaluator.py:214\u001b[39m, in \u001b[36mPanoptica_Evaluator._evaluate_group\u001b[39m\u001b[34m(self, group_name, label_group, processing_pair, result_all, verbose, log_times, save_group_times)\u001b[39m\n\u001b[32m    208\u001b[39m     processing_pair_grouped = MatchedInstancePair(\n\u001b[32m    209\u001b[39m         prediction_arr=processing_pair_grouped.prediction_arr,\n\u001b[32m    210\u001b[39m         reference_arr=processing_pair_grouped.reference_arr,\n\u001b[32m    211\u001b[39m     )\n\u001b[32m    212\u001b[39m     decision_threshold = \u001b[32m0.0\u001b[39m\n\u001b[32m--> \u001b[39m\u001b[32m214\u001b[39m result = \u001b[43mpanoptic_evaluate\u001b[49m\u001b[43m(\u001b[49m\n\u001b[32m    215\u001b[39m \u001b[43m    \u001b[49m\u001b[43minput_pair\u001b[49m\u001b[43m=\u001b[49m\u001b[43mprocessing_pair_grouped\u001b[49m\u001b[43m,\u001b[49m\n\u001b[32m    216\u001b[39m \u001b[43m    \u001b[49m\u001b[43medge_case_handler\u001b[49m\u001b[43m=\u001b[49m\u001b[38;5;28;43mself\u001b[39;49m\u001b[43m.\u001b[49m\u001b[43m__edge_case_handler\u001b[49m\u001b[43m,\u001b[49m\n\u001b[32m    217\u001b[39m \u001b[43m    \u001b[49m\u001b[43minstance_approximator\u001b[49m\u001b[43m=\u001b[49m\u001b[38;5;28;43mself\u001b[39;49m\u001b[43m.\u001b[49m\u001b[43m__instance_approximator\u001b[49m\u001b[43m,\u001b[49m\n\u001b[32m    218\u001b[39m \u001b[43m    \u001b[49m\u001b[43minstance_matcher\u001b[49m\u001b[43m=\u001b[49m\u001b[38;5;28;43mself\u001b[39;49m\u001b[43m.\u001b[49m\u001b[43m__instance_matcher\u001b[49m\u001b[43m,\u001b[49m\n\u001b[32m    219\u001b[39m \u001b[43m    \u001b[49m\u001b[43minstance_metrics\u001b[49m\u001b[43m=\u001b[49m\u001b[38;5;28;43mself\u001b[39;49m\u001b[43m.\u001b[49m\u001b[43m__eval_metrics\u001b[49m\u001b[43m,\u001b[49m\n\u001b[32m    220\u001b[39m \u001b[43m    \u001b[49m\u001b[43mglobal_metrics\u001b[49m\u001b[43m=\u001b[49m\u001b[38;5;28;43mself\u001b[39;49m\u001b[43m.\u001b[49m\u001b[43m__global_metrics\u001b[49m\u001b[43m,\u001b[49m\n\u001b[32m    221\u001b[39m \u001b[43m    \u001b[49m\u001b[43mdecision_metric\u001b[49m\u001b[43m=\u001b[49m\u001b[38;5;28;43mself\u001b[39;49m\u001b[43m.\u001b[49m\u001b[43m__decision_metric\u001b[49m\u001b[43m,\u001b[49m\n\u001b[32m    222\u001b[39m \u001b[43m    \u001b[49m\u001b[43mdecision_threshold\u001b[49m\u001b[43m=\u001b[49m\u001b[43mdecision_threshold\u001b[49m\u001b[43m,\u001b[49m\n\u001b[32m    223\u001b[39m \u001b[43m    \u001b[49m\u001b[43mresult_all\u001b[49m\u001b[43m=\u001b[49m\u001b[43mresult_all\u001b[49m\u001b[43m,\u001b[49m\n\u001b[32m    224\u001b[39m \u001b[43m    \u001b[49m\u001b[43mlog_times\u001b[49m\u001b[43m=\u001b[49m\u001b[38;5;28;43mself\u001b[39;49m\u001b[43m.\u001b[49m\u001b[43m__log_times\u001b[49m\u001b[43m \u001b[49m\u001b[38;5;28;43;01mif\u001b[39;49;00m\u001b[43m \u001b[49m\u001b[43mlog_times\u001b[49m\u001b[43m \u001b[49m\u001b[38;5;129;43;01mis\u001b[39;49;00m\u001b[43m \u001b[49m\u001b[38;5;28;43;01mNone\u001b[39;49;00m\u001b[43m \u001b[49m\u001b[38;5;28;43;01melse\u001b[39;49;00m\u001b[43m \u001b[49m\u001b[43mlog_times\u001b[49m\u001b[43m,\u001b[49m\n\u001b[32m    225\u001b[39m \u001b[43m    \u001b[49m\u001b[43mverbose\u001b[49m\u001b[43m=\u001b[49m\u001b[38;5;28;43;01mTrue\u001b[39;49;00m\u001b[43m \u001b[49m\u001b[38;5;28;43;01mif\u001b[39;49;00m\u001b[43m \u001b[49m\u001b[43mverbose\u001b[49m\u001b[43m \u001b[49m\u001b[38;5;129;43;01mis\u001b[39;49;00m\u001b[43m \u001b[49m\u001b[38;5;28;43;01mNone\u001b[39;49;00m\u001b[43m \u001b[49m\u001b[38;5;28;43;01melse\u001b[39;49;00m\u001b[43m \u001b[49m\u001b[43mverbose\u001b[49m\u001b[43m,\u001b[49m\n\u001b[32m    226\u001b[39m \u001b[43m    \u001b[49m\u001b[43mverbose_calc\u001b[49m\u001b[43m=\u001b[49m\u001b[38;5;28;43mself\u001b[39;49m\u001b[43m.\u001b[49m\u001b[43m__verbose\u001b[49m\u001b[43m \u001b[49m\u001b[38;5;28;43;01mif\u001b[39;49;00m\u001b[43m \u001b[49m\u001b[43mverbose\u001b[49m\u001b[43m \u001b[49m\u001b[38;5;129;43;01mis\u001b[39;49;00m\u001b[43m \u001b[49m\u001b[38;5;28;43;01mNone\u001b[39;49;00m\u001b[43m \u001b[49m\u001b[38;5;28;43;01melse\u001b[39;49;00m\u001b[43m \u001b[49m\u001b[43mverbose\u001b[49m\u001b[43m,\u001b[49m\n\u001b[32m    227\u001b[39m \u001b[43m\u001b[49m\u001b[43m)\u001b[49m\n\u001b[32m    228\u001b[39m \u001b[38;5;28;01mif\u001b[39;00m \u001b[38;5;28mself\u001b[39m.__save_group_times \u001b[38;5;129;01mor\u001b[39;00m save_group_times:\n\u001b[32m    229\u001b[39m     duration = perf_counter() - start_time\n",
      "\u001b[36mFile \u001b[39m\u001b[32m~/panoptica/panoptica/panoptica_evaluator.py:332\u001b[39m, in \u001b[36mpanoptic_evaluate\u001b[39m\u001b[34m(input_pair, instance_approximator, instance_matcher, instance_metrics, global_metrics, decision_metric, decision_threshold, edge_case_handler, log_times, result_all, verbose, verbose_calc, **kwargs)\u001b[39m\n\u001b[32m    328\u001b[39m \u001b[38;5;28;01massert\u001b[39;00m (\n\u001b[32m    329\u001b[39m     instance_matcher \u001b[38;5;129;01mis\u001b[39;00m \u001b[38;5;129;01mnot\u001b[39;00m \u001b[38;5;28;01mNone\u001b[39;00m\n\u001b[32m    330\u001b[39m ), \u001b[33m\"\u001b[39m\u001b[33mGot UnmatchedInstancePair but not InstanceMatchingAlgorithm\u001b[39m\u001b[33m\"\u001b[39m\n\u001b[32m    331\u001b[39m start = perf_counter()\n\u001b[32m--> \u001b[39m\u001b[32m332\u001b[39m processing_pair = \u001b[43minstance_matcher\u001b[49m\u001b[43m.\u001b[49m\u001b[43mmatch_instances\u001b[49m\u001b[43m(\u001b[49m\n\u001b[32m    333\u001b[39m \u001b[43m    \u001b[49m\u001b[43mprocessing_pair\u001b[49m\u001b[43m,\u001b[49m\n\u001b[32m    334\u001b[39m \u001b[43m    \u001b[49m\u001b[43m*\u001b[49m\u001b[43m*\u001b[49m\u001b[43mkwargs\u001b[49m\u001b[43m,\u001b[49m\n\u001b[32m    335\u001b[39m \u001b[43m\u001b[49m\u001b[43m)\u001b[49m\n\u001b[32m    336\u001b[39m \u001b[38;5;28;01mif\u001b[39;00m log_times:\n\u001b[32m    337\u001b[39m     \u001b[38;5;28mprint\u001b[39m(\u001b[33mf\u001b[39m\u001b[33m\"\u001b[39m\u001b[33m-- Matching took \u001b[39m\u001b[38;5;132;01m{\u001b[39;00mperf_counter()\u001b[38;5;250m \u001b[39m-\u001b[38;5;250m \u001b[39mstart\u001b[38;5;132;01m}\u001b[39;00m\u001b[33m seconds\u001b[39m\u001b[33m\"\u001b[39m)\n",
      "\u001b[36mFile \u001b[39m\u001b[32m~/panoptica/panoptica/instance_matcher.py:76\u001b[39m, in \u001b[36mInstanceMatchingAlgorithm.match_instances\u001b[39m\u001b[34m(self, unmatched_instance_pair, **kwargs)\u001b[39m\n\u001b[32m     61\u001b[39m \u001b[38;5;28;01mdef\u001b[39;00m\u001b[38;5;250m \u001b[39m\u001b[34mmatch_instances\u001b[39m(\n\u001b[32m     62\u001b[39m     \u001b[38;5;28mself\u001b[39m,\n\u001b[32m     63\u001b[39m     unmatched_instance_pair: UnmatchedInstancePair,\n\u001b[32m     64\u001b[39m     **kwargs,\n\u001b[32m     65\u001b[39m ) -> MatchedInstancePair:\n\u001b[32m     66\u001b[39m \u001b[38;5;250m    \u001b[39m\u001b[33;03m\"\"\"\u001b[39;00m\n\u001b[32m     67\u001b[39m \u001b[33;03m    Perform instance matching on the given UnmatchedInstancePair.\u001b[39;00m\n\u001b[32m     68\u001b[39m \n\u001b[32m   (...)\u001b[39m\u001b[32m     74\u001b[39m \u001b[33;03m        MatchedInstancePair: The result of the instance matching.\u001b[39;00m\n\u001b[32m     75\u001b[39m \u001b[33;03m    \"\"\"\u001b[39;00m\n\u001b[32m---> \u001b[39m\u001b[32m76\u001b[39m     instance_labelmap = \u001b[38;5;28;43mself\u001b[39;49m\u001b[43m.\u001b[49m\u001b[43m_match_instances\u001b[49m\u001b[43m(\u001b[49m\n\u001b[32m     77\u001b[39m \u001b[43m        \u001b[49m\u001b[43munmatched_instance_pair\u001b[49m\u001b[43m,\u001b[49m\n\u001b[32m     78\u001b[39m \u001b[43m        \u001b[49m\u001b[43m*\u001b[49m\u001b[43m*\u001b[49m\u001b[43mkwargs\u001b[49m\u001b[43m,\u001b[49m\n\u001b[32m     79\u001b[39m \u001b[43m    \u001b[49m\u001b[43m)\u001b[49m\n\u001b[32m     80\u001b[39m     \u001b[38;5;66;03m# print(\"instance_labelmap:\", instance_labelmap)\u001b[39;00m\n\u001b[32m     81\u001b[39m     \u001b[38;5;28;01mreturn\u001b[39;00m map_instance_labels(unmatched_instance_pair.copy(), instance_labelmap)\n",
      "\u001b[36mFile \u001b[39m\u001b[32m~/panoptica/panoptica/instance_matcher.py:220\u001b[39m, in \u001b[36mNaiveThresholdMatching._match_instances\u001b[39m\u001b[34m(self, unmatched_instance_pair, **kwargs)\u001b[39m\n\u001b[32m    215\u001b[39m     \u001b[38;5;66;03m# TODO always go in here, but add the matching score to the pair (so evaluation over multiple thresholds becomes easy)\u001b[39;00m\n\u001b[32m    216\u001b[39m     \u001b[38;5;28;01mif\u001b[39;00m \u001b[38;5;28mself\u001b[39m._matching_metric.score_beats_threshold(\n\u001b[32m    217\u001b[39m         matching_score, \u001b[38;5;28mself\u001b[39m._matching_threshold\n\u001b[32m    218\u001b[39m     ):\n\u001b[32m    219\u001b[39m         \u001b[38;5;66;03m# Match found, increment true positive count and collect IoU and Dice values\u001b[39;00m\n\u001b[32m--> \u001b[39m\u001b[32m220\u001b[39m         \u001b[43mlabelmap\u001b[49m\u001b[43m.\u001b[49m\u001b[43madd_labelmap_entry\u001b[49m\u001b[43m(\u001b[49m\u001b[43mpred_label\u001b[49m\u001b[43m,\u001b[49m\u001b[43m \u001b[49m\u001b[43mref_label\u001b[49m\u001b[43m)\u001b[49m\n\u001b[32m    221\u001b[39m         \u001b[38;5;66;03m# map label ref_idx to pred_idx\u001b[39;00m\n\u001b[32m    222\u001b[39m \u001b[38;5;28;01mreturn\u001b[39;00m labelmap\n",
      "\u001b[36mFile \u001b[39m\u001b[32m~/panoptica/panoptica/utils/instancelabelmap.py:50\u001b[39m, in \u001b[36mInstanceLabelMap.add_labelmap_entry\u001b[39m\u001b[34m(self, pred_labels, ref_label)\u001b[39m\n\u001b[32m     48\u001b[39m \u001b[38;5;28;01mfor\u001b[39;00m p \u001b[38;5;129;01min\u001b[39;00m pred_labels:\n\u001b[32m     49\u001b[39m     \u001b[38;5;28;01mif\u001b[39;00m p \u001b[38;5;129;01min\u001b[39;00m \u001b[38;5;28mself\u001b[39m.labelmap \u001b[38;5;129;01mand\u001b[39;00m \u001b[38;5;28mself\u001b[39m.labelmap[p] != ref_label:\n\u001b[32m---> \u001b[39m\u001b[32m50\u001b[39m         \u001b[38;5;28;01mraise\u001b[39;00m \u001b[38;5;167;01mException\u001b[39;00m(\n\u001b[32m     51\u001b[39m             \u001b[33mf\u001b[39m\u001b[33m\"\u001b[39m\u001b[33mYou are mapping a prediction label to a reference label that was already assigned differently, got \u001b[39m\u001b[38;5;132;01m{\u001b[39;00m\u001b[38;5;28mself\u001b[39m.\u001b[34m__str__\u001b[39m\u001b[38;5;132;01m}\u001b[39;00m\u001b[33m and you tried \u001b[39m\u001b[38;5;132;01m{\u001b[39;00mpred_labels\u001b[38;5;132;01m}\u001b[39;00m\u001b[33m, \u001b[39m\u001b[38;5;132;01m{\u001b[39;00mref_label\u001b[38;5;132;01m}\u001b[39;00m\u001b[33m\"\u001b[39m\n\u001b[32m     52\u001b[39m         )\n\u001b[32m     53\u001b[39m     \u001b[38;5;28mself\u001b[39m.labelmap[p] = ref_label\n",
      "\u001b[31mException\u001b[39m: You are mapping a prediction label to a reference label that was already assigned differently, got <bound method InstanceLabelMap.__str__ of ['(1,) -> 2']> and you tried [1], 1"
     ]
    }
   ],
   "source": [
    "# Convert pred and gt to integer type AFTER assignment\n",
    "pred = pred.astype(np.int32)\n",
    "gt = gt.astype(np.int32)\n",
    "\n",
    "# NAIVE Matching\n",
    "naive_evaluator = Panoptica_Evaluator(\n",
    "    expected_input=InputType.SEMANTIC,\n",
    "    instance_approximator=ConnectedComponentsInstanceApproximator(),\n",
    "    instance_matcher=NaiveThresholdMatching(matching_threshold=0.1),\n",
    ")\n",
    "\n",
    "print(\"Naive Matching\")\n",
    "result = naive_evaluator.evaluate(pred, gt, verbose=False)[\"ungrouped\"]\n",
    "pprint(result)"
   ]
  },
  {
   "cell_type": "code",
   "execution_count": 6,
   "id": "e24feed5",
   "metadata": {},
   "outputs": [
    {
     "name": "stdout",
     "output_type": "stream",
     "text": [
      "\n",
      "Hungry Matching\n"
     ]
    },
    {
     "data": {
      "text/html": [
       "<pre style=\"white-space:pre;overflow-x:auto;line-height:normal;font-family:Menlo,'DejaVu Sans Mono',consolas,'Courier New',monospace\">\n",
       "+++ MATCHING +++\n",
       "Number of instances in reference <span style=\"font-weight: bold\">(</span>num_ref_instances<span style=\"font-weight: bold\">)</span>: <span style=\"color: #008080; text-decoration-color: #008080; font-weight: bold\">2</span>\n",
       "Number of instances in prediction <span style=\"font-weight: bold\">(</span>num_pred_instances<span style=\"font-weight: bold\">)</span>: <span style=\"color: #008080; text-decoration-color: #008080; font-weight: bold\">1</span>\n",
       "<span style=\"color: #00ff00; text-decoration-color: #00ff00; font-style: italic\">True</span> Positives <span style=\"font-weight: bold\">(</span>tp<span style=\"font-weight: bold\">)</span>: <span style=\"color: #008080; text-decoration-color: #008080; font-weight: bold\">1</span>\n",
       "<span style=\"color: #ff0000; text-decoration-color: #ff0000; font-style: italic\">False</span> Positives <span style=\"font-weight: bold\">(</span>fp<span style=\"font-weight: bold\">)</span>: <span style=\"color: #008080; text-decoration-color: #008080; font-weight: bold\">0</span>\n",
       "<span style=\"color: #ff0000; text-decoration-color: #ff0000; font-style: italic\">False</span> Negatives <span style=\"font-weight: bold\">(</span>fn<span style=\"font-weight: bold\">)</span>: <span style=\"color: #008080; text-decoration-color: #008080; font-weight: bold\">1</span>\n",
       "Recognition Quality <span style=\"color: #800080; text-decoration-color: #800080\">/</span> F1-Score <span style=\"font-weight: bold\">(</span>rq<span style=\"font-weight: bold\">)</span>: <span style=\"color: #008080; text-decoration-color: #008080; font-weight: bold\">0.6666666666666666</span>\n",
       "\n",
       "+++ GLOBAL +++\n",
       "Global Binary Dice <span style=\"font-weight: bold\">(</span>global_bin_dsc<span style=\"font-weight: bold\">)</span>: <span style=\"color: #008080; text-decoration-color: #008080; font-weight: bold\">0.5892351274787535</span>\n",
       "\n",
       "+++ INSTANCE +++\n",
       "Segmentation Quality IoU <span style=\"font-weight: bold\">(</span>sq<span style=\"font-weight: bold\">)</span>: <span style=\"color: #008080; text-decoration-color: #008080; font-weight: bold\">0.3444976076555024</span> +- <span style=\"color: #008080; text-decoration-color: #008080; font-weight: bold\">0.0</span>\n",
       "Panoptic Quality IoU <span style=\"font-weight: bold\">(</span>pq<span style=\"font-weight: bold\">)</span>: <span style=\"color: #008080; text-decoration-color: #008080; font-weight: bold\">0.22966507177033493</span>\n",
       "Segmentation Quality Dsc <span style=\"font-weight: bold\">(</span>sq_dsc<span style=\"font-weight: bold\">)</span>: <span style=\"color: #008080; text-decoration-color: #008080; font-weight: bold\">0.5124555160142349</span> +- <span style=\"color: #008080; text-decoration-color: #008080; font-weight: bold\">0.0</span>\n",
       "Panoptic Quality Dsc <span style=\"font-weight: bold\">(</span>pq_dsc<span style=\"font-weight: bold\">)</span>: <span style=\"color: #008080; text-decoration-color: #008080; font-weight: bold\">0.3416370106761566</span>\n",
       "Segmentation Quality ASSD <span style=\"font-weight: bold\">(</span>sq_assd<span style=\"font-weight: bold\">)</span>: <span style=\"color: #008080; text-decoration-color: #008080; font-weight: bold\">2.6724199253921057</span> +- <span style=\"color: #008080; text-decoration-color: #008080; font-weight: bold\">0.0</span>\n",
       "Segmentation Quality Relative Volume Difference <span style=\"font-weight: bold\">(</span>sq_rvd<span style=\"font-weight: bold\">)</span>: <span style=\"color: #008080; text-decoration-color: #008080; font-weight: bold\">1.4691358024691359</span> +- <span style=\"color: #008080; text-decoration-color: #008080; font-weight: bold\">0.0</span>\n",
       "\n",
       "</pre>\n"
      ],
      "text/plain": [
       "\n",
       "+++ MATCHING +++\n",
       "Number of instances in reference \u001b[1m(\u001b[0mnum_ref_instances\u001b[1m)\u001b[0m: \u001b[1;36m2\u001b[0m\n",
       "Number of instances in prediction \u001b[1m(\u001b[0mnum_pred_instances\u001b[1m)\u001b[0m: \u001b[1;36m1\u001b[0m\n",
       "\u001b[3;92mTrue\u001b[0m Positives \u001b[1m(\u001b[0mtp\u001b[1m)\u001b[0m: \u001b[1;36m1\u001b[0m\n",
       "\u001b[3;91mFalse\u001b[0m Positives \u001b[1m(\u001b[0mfp\u001b[1m)\u001b[0m: \u001b[1;36m0\u001b[0m\n",
       "\u001b[3;91mFalse\u001b[0m Negatives \u001b[1m(\u001b[0mfn\u001b[1m)\u001b[0m: \u001b[1;36m1\u001b[0m\n",
       "Recognition Quality \u001b[35m/\u001b[0m F1-Score \u001b[1m(\u001b[0mrq\u001b[1m)\u001b[0m: \u001b[1;36m0.6666666666666666\u001b[0m\n",
       "\n",
       "+++ GLOBAL +++\n",
       "Global Binary Dice \u001b[1m(\u001b[0mglobal_bin_dsc\u001b[1m)\u001b[0m: \u001b[1;36m0.5892351274787535\u001b[0m\n",
       "\n",
       "+++ INSTANCE +++\n",
       "Segmentation Quality IoU \u001b[1m(\u001b[0msq\u001b[1m)\u001b[0m: \u001b[1;36m0.3444976076555024\u001b[0m +- \u001b[1;36m0.0\u001b[0m\n",
       "Panoptic Quality IoU \u001b[1m(\u001b[0mpq\u001b[1m)\u001b[0m: \u001b[1;36m0.22966507177033493\u001b[0m\n",
       "Segmentation Quality Dsc \u001b[1m(\u001b[0msq_dsc\u001b[1m)\u001b[0m: \u001b[1;36m0.5124555160142349\u001b[0m +- \u001b[1;36m0.0\u001b[0m\n",
       "Panoptic Quality Dsc \u001b[1m(\u001b[0mpq_dsc\u001b[1m)\u001b[0m: \u001b[1;36m0.3416370106761566\u001b[0m\n",
       "Segmentation Quality ASSD \u001b[1m(\u001b[0msq_assd\u001b[1m)\u001b[0m: \u001b[1;36m2.6724199253921057\u001b[0m +- \u001b[1;36m0.0\u001b[0m\n",
       "Segmentation Quality Relative Volume Difference \u001b[1m(\u001b[0msq_rvd\u001b[1m)\u001b[0m: \u001b[1;36m1.4691358024691359\u001b[0m +- \u001b[1;36m0.0\u001b[0m\n",
       "\n"
      ]
     },
     "metadata": {},
     "output_type": "display_data"
    }
   ],
   "source": [
    "# HUNGRY Matching\n",
    "hungry_evaluator = Panoptica_Evaluator(\n",
    "    expected_input=InputType.SEMANTIC,\n",
    "    instance_approximator=ConnectedComponentsInstanceApproximator(),\n",
    "    instance_matcher=HungryMatching(matching_threshold=0.1),\n",
    ")\n",
    "print(\"\\nHungry Matching\")\n",
    "result = hungry_evaluator.evaluate(pred, gt, verbose=False)[\"ungrouped\"]\n",
    "pprint(result)"
   ]
  },
  {
   "cell_type": "markdown",
   "id": "9a16a421",
   "metadata": {},
   "source": [
    "# With 0.0 Threshold\n",
    "\n",
    "### Notice Naive Matching Breaks"
   ]
  },
  {
   "cell_type": "code",
   "execution_count": 8,
   "id": "1083f964",
   "metadata": {},
   "outputs": [
    {
     "name": "stdout",
     "output_type": "stream",
     "text": [
      "Naive Matching\n"
     ]
    },
    {
     "ename": "Exception",
     "evalue": "You are mapping a prediction label to a reference label that was already assigned differently, got <bound method InstanceLabelMap.__str__ of ['(1,) -> 2']> and you tried [1], 1",
     "output_type": "error",
     "traceback": [
      "\u001b[31m---------------------------------------------------------------------------\u001b[39m",
      "\u001b[31mException\u001b[39m                                 Traceback (most recent call last)",
      "\u001b[36mCell\u001b[39m\u001b[36m \u001b[39m\u001b[32mIn[8]\u001b[39m\u001b[32m, line 13\u001b[39m\n\u001b[32m      6\u001b[39m naive_evaluator = Panoptica_Evaluator(\n\u001b[32m      7\u001b[39m     expected_input=InputType.SEMANTIC,\n\u001b[32m      8\u001b[39m     instance_approximator=ConnectedComponentsInstanceApproximator(),\n\u001b[32m      9\u001b[39m     instance_matcher=NaiveThresholdMatching(matching_threshold=\u001b[32m0.1\u001b[39m),\n\u001b[32m     10\u001b[39m )\n\u001b[32m     12\u001b[39m \u001b[38;5;28mprint\u001b[39m(\u001b[33m\"\u001b[39m\u001b[33mNaive Matching\u001b[39m\u001b[33m\"\u001b[39m)\n\u001b[32m---> \u001b[39m\u001b[32m13\u001b[39m result = \u001b[43mnaive_evaluator\u001b[49m\u001b[43m.\u001b[49m\u001b[43mevaluate\u001b[49m\u001b[43m(\u001b[49m\u001b[43mpred\u001b[49m\u001b[43m,\u001b[49m\u001b[43m \u001b[49m\u001b[43mgt\u001b[49m\u001b[43m,\u001b[49m\u001b[43m \u001b[49m\u001b[43mverbose\u001b[49m\u001b[43m=\u001b[49m\u001b[38;5;28;43;01mFalse\u001b[39;49;00m\u001b[43m)\u001b[49m[\u001b[33m\"\u001b[39m\u001b[33mungrouped\u001b[39m\u001b[33m\"\u001b[39m]\n\u001b[32m     14\u001b[39m pprint(result)\n",
      "\u001b[36mFile \u001b[39m\u001b[32m~/panoptica/panoptica/utils/timing.py:9\u001b[39m, in \u001b[36mmeasure_time.<locals>.wrapper\u001b[39m\u001b[34m(*args, **kwargs)\u001b[39m\n\u001b[32m      7\u001b[39m \u001b[38;5;28;01mdef\u001b[39;00m\u001b[38;5;250m \u001b[39m\u001b[34mwrapper\u001b[39m(*args, **kwargs):\n\u001b[32m      8\u001b[39m     start_time = time.time()\n\u001b[32m----> \u001b[39m\u001b[32m9\u001b[39m     result = \u001b[43mfunc\u001b[49m\u001b[43m(\u001b[49m\u001b[43m*\u001b[49m\u001b[43margs\u001b[49m\u001b[43m,\u001b[49m\u001b[43m \u001b[49m\u001b[43m*\u001b[49m\u001b[43m*\u001b[49m\u001b[43mkwargs\u001b[49m\u001b[43m)\u001b[49m\n\u001b[32m     10\u001b[39m     end_time = time.time()\n\u001b[32m     11\u001b[39m     elapsed_time = end_time - start_time\n",
      "\u001b[36mFile \u001b[39m\u001b[32m~/panoptica/panoptica/panoptica_evaluator.py:138\u001b[39m, in \u001b[36mPanoptica_Evaluator.evaluate\u001b[39m\u001b[34m(self, prediction_arr, reference_arr, result_all, save_group_times, log_times, verbose)\u001b[39m\n\u001b[32m    136\u001b[39m result_grouped: \u001b[38;5;28mdict\u001b[39m[\u001b[38;5;28mstr\u001b[39m, PanopticaResult] = {}\n\u001b[32m    137\u001b[39m \u001b[38;5;28;01mfor\u001b[39;00m group_name, label_group \u001b[38;5;129;01min\u001b[39;00m \u001b[38;5;28mself\u001b[39m.__segmentation_class_groups.items():\n\u001b[32m--> \u001b[39m\u001b[32m138\u001b[39m     result_grouped[group_name] = \u001b[38;5;28;43mself\u001b[39;49m\u001b[43m.\u001b[49m\u001b[43m_evaluate_group\u001b[49m\u001b[43m(\u001b[49m\n\u001b[32m    139\u001b[39m \u001b[43m        \u001b[49m\u001b[43mgroup_name\u001b[49m\u001b[43m,\u001b[49m\n\u001b[32m    140\u001b[39m \u001b[43m        \u001b[49m\u001b[43mlabel_group\u001b[49m\u001b[43m,\u001b[49m\n\u001b[32m    141\u001b[39m \u001b[43m        \u001b[49m\u001b[43mprocessing_pair\u001b[49m\u001b[43m,\u001b[49m\n\u001b[32m    142\u001b[39m \u001b[43m        \u001b[49m\u001b[43mresult_all\u001b[49m\u001b[43m,\u001b[49m\n\u001b[32m    143\u001b[39m \u001b[43m        \u001b[49m\u001b[43msave_group_times\u001b[49m\u001b[43m=\u001b[49m\u001b[43m(\u001b[49m\n\u001b[32m    144\u001b[39m \u001b[43m            \u001b[49m\u001b[38;5;28;43mself\u001b[39;49m\u001b[43m.\u001b[49m\u001b[43m__save_group_times\u001b[49m\n\u001b[32m    145\u001b[39m \u001b[43m            \u001b[49m\u001b[38;5;28;43;01mif\u001b[39;49;00m\u001b[43m \u001b[49m\u001b[43msave_group_times\u001b[49m\u001b[43m \u001b[49m\u001b[38;5;129;43;01mis\u001b[39;49;00m\u001b[43m \u001b[49m\u001b[38;5;28;43;01mNone\u001b[39;49;00m\n\u001b[32m    146\u001b[39m \u001b[43m            \u001b[49m\u001b[38;5;28;43;01melse\u001b[39;49;00m\u001b[43m \u001b[49m\u001b[43msave_group_times\u001b[49m\n\u001b[32m    147\u001b[39m \u001b[43m        \u001b[49m\u001b[43m)\u001b[49m\u001b[43m,\u001b[49m\n\u001b[32m    148\u001b[39m \u001b[43m        \u001b[49m\u001b[43mlog_times\u001b[49m\u001b[43m=\u001b[49m\u001b[43mlog_times\u001b[49m\u001b[43m,\u001b[49m\n\u001b[32m    149\u001b[39m \u001b[43m        \u001b[49m\u001b[43mverbose\u001b[49m\u001b[43m=\u001b[49m\u001b[43mverbose\u001b[49m\u001b[43m,\u001b[49m\n\u001b[32m    150\u001b[39m \u001b[43m    \u001b[49m\u001b[43m)\u001b[49m\n\u001b[32m    151\u001b[39m \u001b[38;5;28;01mreturn\u001b[39;00m result_grouped\n",
      "\u001b[36mFile \u001b[39m\u001b[32m~/panoptica/panoptica/panoptica_evaluator.py:214\u001b[39m, in \u001b[36mPanoptica_Evaluator._evaluate_group\u001b[39m\u001b[34m(self, group_name, label_group, processing_pair, result_all, verbose, log_times, save_group_times)\u001b[39m\n\u001b[32m    208\u001b[39m     processing_pair_grouped = MatchedInstancePair(\n\u001b[32m    209\u001b[39m         prediction_arr=processing_pair_grouped.prediction_arr,\n\u001b[32m    210\u001b[39m         reference_arr=processing_pair_grouped.reference_arr,\n\u001b[32m    211\u001b[39m     )\n\u001b[32m    212\u001b[39m     decision_threshold = \u001b[32m0.0\u001b[39m\n\u001b[32m--> \u001b[39m\u001b[32m214\u001b[39m result = \u001b[43mpanoptic_evaluate\u001b[49m\u001b[43m(\u001b[49m\n\u001b[32m    215\u001b[39m \u001b[43m    \u001b[49m\u001b[43minput_pair\u001b[49m\u001b[43m=\u001b[49m\u001b[43mprocessing_pair_grouped\u001b[49m\u001b[43m,\u001b[49m\n\u001b[32m    216\u001b[39m \u001b[43m    \u001b[49m\u001b[43medge_case_handler\u001b[49m\u001b[43m=\u001b[49m\u001b[38;5;28;43mself\u001b[39;49m\u001b[43m.\u001b[49m\u001b[43m__edge_case_handler\u001b[49m\u001b[43m,\u001b[49m\n\u001b[32m    217\u001b[39m \u001b[43m    \u001b[49m\u001b[43minstance_approximator\u001b[49m\u001b[43m=\u001b[49m\u001b[38;5;28;43mself\u001b[39;49m\u001b[43m.\u001b[49m\u001b[43m__instance_approximator\u001b[49m\u001b[43m,\u001b[49m\n\u001b[32m    218\u001b[39m \u001b[43m    \u001b[49m\u001b[43minstance_matcher\u001b[49m\u001b[43m=\u001b[49m\u001b[38;5;28;43mself\u001b[39;49m\u001b[43m.\u001b[49m\u001b[43m__instance_matcher\u001b[49m\u001b[43m,\u001b[49m\n\u001b[32m    219\u001b[39m \u001b[43m    \u001b[49m\u001b[43minstance_metrics\u001b[49m\u001b[43m=\u001b[49m\u001b[38;5;28;43mself\u001b[39;49m\u001b[43m.\u001b[49m\u001b[43m__eval_metrics\u001b[49m\u001b[43m,\u001b[49m\n\u001b[32m    220\u001b[39m \u001b[43m    \u001b[49m\u001b[43mglobal_metrics\u001b[49m\u001b[43m=\u001b[49m\u001b[38;5;28;43mself\u001b[39;49m\u001b[43m.\u001b[49m\u001b[43m__global_metrics\u001b[49m\u001b[43m,\u001b[49m\n\u001b[32m    221\u001b[39m \u001b[43m    \u001b[49m\u001b[43mdecision_metric\u001b[49m\u001b[43m=\u001b[49m\u001b[38;5;28;43mself\u001b[39;49m\u001b[43m.\u001b[49m\u001b[43m__decision_metric\u001b[49m\u001b[43m,\u001b[49m\n\u001b[32m    222\u001b[39m \u001b[43m    \u001b[49m\u001b[43mdecision_threshold\u001b[49m\u001b[43m=\u001b[49m\u001b[43mdecision_threshold\u001b[49m\u001b[43m,\u001b[49m\n\u001b[32m    223\u001b[39m \u001b[43m    \u001b[49m\u001b[43mresult_all\u001b[49m\u001b[43m=\u001b[49m\u001b[43mresult_all\u001b[49m\u001b[43m,\u001b[49m\n\u001b[32m    224\u001b[39m \u001b[43m    \u001b[49m\u001b[43mlog_times\u001b[49m\u001b[43m=\u001b[49m\u001b[38;5;28;43mself\u001b[39;49m\u001b[43m.\u001b[49m\u001b[43m__log_times\u001b[49m\u001b[43m \u001b[49m\u001b[38;5;28;43;01mif\u001b[39;49;00m\u001b[43m \u001b[49m\u001b[43mlog_times\u001b[49m\u001b[43m \u001b[49m\u001b[38;5;129;43;01mis\u001b[39;49;00m\u001b[43m \u001b[49m\u001b[38;5;28;43;01mNone\u001b[39;49;00m\u001b[43m \u001b[49m\u001b[38;5;28;43;01melse\u001b[39;49;00m\u001b[43m \u001b[49m\u001b[43mlog_times\u001b[49m\u001b[43m,\u001b[49m\n\u001b[32m    225\u001b[39m \u001b[43m    \u001b[49m\u001b[43mverbose\u001b[49m\u001b[43m=\u001b[49m\u001b[38;5;28;43;01mTrue\u001b[39;49;00m\u001b[43m \u001b[49m\u001b[38;5;28;43;01mif\u001b[39;49;00m\u001b[43m \u001b[49m\u001b[43mverbose\u001b[49m\u001b[43m \u001b[49m\u001b[38;5;129;43;01mis\u001b[39;49;00m\u001b[43m \u001b[49m\u001b[38;5;28;43;01mNone\u001b[39;49;00m\u001b[43m \u001b[49m\u001b[38;5;28;43;01melse\u001b[39;49;00m\u001b[43m \u001b[49m\u001b[43mverbose\u001b[49m\u001b[43m,\u001b[49m\n\u001b[32m    226\u001b[39m \u001b[43m    \u001b[49m\u001b[43mverbose_calc\u001b[49m\u001b[43m=\u001b[49m\u001b[38;5;28;43mself\u001b[39;49m\u001b[43m.\u001b[49m\u001b[43m__verbose\u001b[49m\u001b[43m \u001b[49m\u001b[38;5;28;43;01mif\u001b[39;49;00m\u001b[43m \u001b[49m\u001b[43mverbose\u001b[49m\u001b[43m \u001b[49m\u001b[38;5;129;43;01mis\u001b[39;49;00m\u001b[43m \u001b[49m\u001b[38;5;28;43;01mNone\u001b[39;49;00m\u001b[43m \u001b[49m\u001b[38;5;28;43;01melse\u001b[39;49;00m\u001b[43m \u001b[49m\u001b[43mverbose\u001b[49m\u001b[43m,\u001b[49m\n\u001b[32m    227\u001b[39m \u001b[43m\u001b[49m\u001b[43m)\u001b[49m\n\u001b[32m    228\u001b[39m \u001b[38;5;28;01mif\u001b[39;00m \u001b[38;5;28mself\u001b[39m.__save_group_times \u001b[38;5;129;01mor\u001b[39;00m save_group_times:\n\u001b[32m    229\u001b[39m     duration = perf_counter() - start_time\n",
      "\u001b[36mFile \u001b[39m\u001b[32m~/panoptica/panoptica/panoptica_evaluator.py:332\u001b[39m, in \u001b[36mpanoptic_evaluate\u001b[39m\u001b[34m(input_pair, instance_approximator, instance_matcher, instance_metrics, global_metrics, decision_metric, decision_threshold, edge_case_handler, log_times, result_all, verbose, verbose_calc, **kwargs)\u001b[39m\n\u001b[32m    328\u001b[39m \u001b[38;5;28;01massert\u001b[39;00m (\n\u001b[32m    329\u001b[39m     instance_matcher \u001b[38;5;129;01mis\u001b[39;00m \u001b[38;5;129;01mnot\u001b[39;00m \u001b[38;5;28;01mNone\u001b[39;00m\n\u001b[32m    330\u001b[39m ), \u001b[33m\"\u001b[39m\u001b[33mGot UnmatchedInstancePair but not InstanceMatchingAlgorithm\u001b[39m\u001b[33m\"\u001b[39m\n\u001b[32m    331\u001b[39m start = perf_counter()\n\u001b[32m--> \u001b[39m\u001b[32m332\u001b[39m processing_pair = \u001b[43minstance_matcher\u001b[49m\u001b[43m.\u001b[49m\u001b[43mmatch_instances\u001b[49m\u001b[43m(\u001b[49m\n\u001b[32m    333\u001b[39m \u001b[43m    \u001b[49m\u001b[43mprocessing_pair\u001b[49m\u001b[43m,\u001b[49m\n\u001b[32m    334\u001b[39m \u001b[43m    \u001b[49m\u001b[43m*\u001b[49m\u001b[43m*\u001b[49m\u001b[43mkwargs\u001b[49m\u001b[43m,\u001b[49m\n\u001b[32m    335\u001b[39m \u001b[43m\u001b[49m\u001b[43m)\u001b[49m\n\u001b[32m    336\u001b[39m \u001b[38;5;28;01mif\u001b[39;00m log_times:\n\u001b[32m    337\u001b[39m     \u001b[38;5;28mprint\u001b[39m(\u001b[33mf\u001b[39m\u001b[33m\"\u001b[39m\u001b[33m-- Matching took \u001b[39m\u001b[38;5;132;01m{\u001b[39;00mperf_counter()\u001b[38;5;250m \u001b[39m-\u001b[38;5;250m \u001b[39mstart\u001b[38;5;132;01m}\u001b[39;00m\u001b[33m seconds\u001b[39m\u001b[33m\"\u001b[39m)\n",
      "\u001b[36mFile \u001b[39m\u001b[32m~/panoptica/panoptica/instance_matcher.py:76\u001b[39m, in \u001b[36mInstanceMatchingAlgorithm.match_instances\u001b[39m\u001b[34m(self, unmatched_instance_pair, **kwargs)\u001b[39m\n\u001b[32m     61\u001b[39m \u001b[38;5;28;01mdef\u001b[39;00m\u001b[38;5;250m \u001b[39m\u001b[34mmatch_instances\u001b[39m(\n\u001b[32m     62\u001b[39m     \u001b[38;5;28mself\u001b[39m,\n\u001b[32m     63\u001b[39m     unmatched_instance_pair: UnmatchedInstancePair,\n\u001b[32m     64\u001b[39m     **kwargs,\n\u001b[32m     65\u001b[39m ) -> MatchedInstancePair:\n\u001b[32m     66\u001b[39m \u001b[38;5;250m    \u001b[39m\u001b[33;03m\"\"\"\u001b[39;00m\n\u001b[32m     67\u001b[39m \u001b[33;03m    Perform instance matching on the given UnmatchedInstancePair.\u001b[39;00m\n\u001b[32m     68\u001b[39m \n\u001b[32m   (...)\u001b[39m\u001b[32m     74\u001b[39m \u001b[33;03m        MatchedInstancePair: The result of the instance matching.\u001b[39;00m\n\u001b[32m     75\u001b[39m \u001b[33;03m    \"\"\"\u001b[39;00m\n\u001b[32m---> \u001b[39m\u001b[32m76\u001b[39m     instance_labelmap = \u001b[38;5;28;43mself\u001b[39;49m\u001b[43m.\u001b[49m\u001b[43m_match_instances\u001b[49m\u001b[43m(\u001b[49m\n\u001b[32m     77\u001b[39m \u001b[43m        \u001b[49m\u001b[43munmatched_instance_pair\u001b[49m\u001b[43m,\u001b[49m\n\u001b[32m     78\u001b[39m \u001b[43m        \u001b[49m\u001b[43m*\u001b[49m\u001b[43m*\u001b[49m\u001b[43mkwargs\u001b[49m\u001b[43m,\u001b[49m\n\u001b[32m     79\u001b[39m \u001b[43m    \u001b[49m\u001b[43m)\u001b[49m\n\u001b[32m     80\u001b[39m     \u001b[38;5;66;03m# print(\"instance_labelmap:\", instance_labelmap)\u001b[39;00m\n\u001b[32m     81\u001b[39m     \u001b[38;5;28;01mreturn\u001b[39;00m map_instance_labels(unmatched_instance_pair.copy(), instance_labelmap)\n",
      "\u001b[36mFile \u001b[39m\u001b[32m~/panoptica/panoptica/instance_matcher.py:220\u001b[39m, in \u001b[36mNaiveThresholdMatching._match_instances\u001b[39m\u001b[34m(self, unmatched_instance_pair, **kwargs)\u001b[39m\n\u001b[32m    215\u001b[39m     \u001b[38;5;66;03m# TODO always go in here, but add the matching score to the pair (so evaluation over multiple thresholds becomes easy)\u001b[39;00m\n\u001b[32m    216\u001b[39m     \u001b[38;5;28;01mif\u001b[39;00m \u001b[38;5;28mself\u001b[39m._matching_metric.score_beats_threshold(\n\u001b[32m    217\u001b[39m         matching_score, \u001b[38;5;28mself\u001b[39m._matching_threshold\n\u001b[32m    218\u001b[39m     ):\n\u001b[32m    219\u001b[39m         \u001b[38;5;66;03m# Match found, increment true positive count and collect IoU and Dice values\u001b[39;00m\n\u001b[32m--> \u001b[39m\u001b[32m220\u001b[39m         \u001b[43mlabelmap\u001b[49m\u001b[43m.\u001b[49m\u001b[43madd_labelmap_entry\u001b[49m\u001b[43m(\u001b[49m\u001b[43mpred_label\u001b[49m\u001b[43m,\u001b[49m\u001b[43m \u001b[49m\u001b[43mref_label\u001b[49m\u001b[43m)\u001b[49m\n\u001b[32m    221\u001b[39m         \u001b[38;5;66;03m# map label ref_idx to pred_idx\u001b[39;00m\n\u001b[32m    222\u001b[39m \u001b[38;5;28;01mreturn\u001b[39;00m labelmap\n",
      "\u001b[36mFile \u001b[39m\u001b[32m~/panoptica/panoptica/utils/instancelabelmap.py:50\u001b[39m, in \u001b[36mInstanceLabelMap.add_labelmap_entry\u001b[39m\u001b[34m(self, pred_labels, ref_label)\u001b[39m\n\u001b[32m     48\u001b[39m \u001b[38;5;28;01mfor\u001b[39;00m p \u001b[38;5;129;01min\u001b[39;00m pred_labels:\n\u001b[32m     49\u001b[39m     \u001b[38;5;28;01mif\u001b[39;00m p \u001b[38;5;129;01min\u001b[39;00m \u001b[38;5;28mself\u001b[39m.labelmap \u001b[38;5;129;01mand\u001b[39;00m \u001b[38;5;28mself\u001b[39m.labelmap[p] != ref_label:\n\u001b[32m---> \u001b[39m\u001b[32m50\u001b[39m         \u001b[38;5;28;01mraise\u001b[39;00m \u001b[38;5;167;01mException\u001b[39;00m(\n\u001b[32m     51\u001b[39m             \u001b[33mf\u001b[39m\u001b[33m\"\u001b[39m\u001b[33mYou are mapping a prediction label to a reference label that was already assigned differently, got \u001b[39m\u001b[38;5;132;01m{\u001b[39;00m\u001b[38;5;28mself\u001b[39m.\u001b[34m__str__\u001b[39m\u001b[38;5;132;01m}\u001b[39;00m\u001b[33m and you tried \u001b[39m\u001b[38;5;132;01m{\u001b[39;00mpred_labels\u001b[38;5;132;01m}\u001b[39;00m\u001b[33m, \u001b[39m\u001b[38;5;132;01m{\u001b[39;00mref_label\u001b[38;5;132;01m}\u001b[39;00m\u001b[33m\"\u001b[39m\n\u001b[32m     52\u001b[39m         )\n\u001b[32m     53\u001b[39m     \u001b[38;5;28mself\u001b[39m.labelmap[p] = ref_label\n",
      "\u001b[31mException\u001b[39m: You are mapping a prediction label to a reference label that was already assigned differently, got <bound method InstanceLabelMap.__str__ of ['(1,) -> 2']> and you tried [1], 1"
     ]
    }
   ],
   "source": [
    "# Convert pred and gt to integer type AFTER assignment\n",
    "pred = pred.astype(np.int32)\n",
    "gt = gt.astype(np.int32)\n",
    "\n",
    "# NAIVE Matching\n",
    "naive_evaluator = Panoptica_Evaluator(\n",
    "    expected_input=InputType.SEMANTIC,\n",
    "    instance_approximator=ConnectedComponentsInstanceApproximator(),\n",
    "    instance_matcher=NaiveThresholdMatching(matching_threshold=0.1),\n",
    ")\n",
    "\n",
    "print(\"Naive Matching\")\n",
    "result = naive_evaluator.evaluate(pred, gt, verbose=False)[\"ungrouped\"]\n",
    "pprint(result)"
   ]
  },
  {
   "cell_type": "code",
   "execution_count": 7,
   "id": "f7ad44f0",
   "metadata": {},
   "outputs": [
    {
     "name": "stdout",
     "output_type": "stream",
     "text": [
      "\n",
      "Hungry Matching\n"
     ]
    },
    {
     "data": {
      "text/html": [
       "<pre style=\"white-space:pre;overflow-x:auto;line-height:normal;font-family:Menlo,'DejaVu Sans Mono',consolas,'Courier New',monospace\">\n",
       "+++ MATCHING +++\n",
       "Number of instances in reference <span style=\"font-weight: bold\">(</span>num_ref_instances<span style=\"font-weight: bold\">)</span>: <span style=\"color: #008080; text-decoration-color: #008080; font-weight: bold\">2</span>\n",
       "Number of instances in prediction <span style=\"font-weight: bold\">(</span>num_pred_instances<span style=\"font-weight: bold\">)</span>: <span style=\"color: #008080; text-decoration-color: #008080; font-weight: bold\">1</span>\n",
       "<span style=\"color: #00ff00; text-decoration-color: #00ff00; font-style: italic\">True</span> Positives <span style=\"font-weight: bold\">(</span>tp<span style=\"font-weight: bold\">)</span>: <span style=\"color: #008080; text-decoration-color: #008080; font-weight: bold\">1</span>\n",
       "<span style=\"color: #ff0000; text-decoration-color: #ff0000; font-style: italic\">False</span> Positives <span style=\"font-weight: bold\">(</span>fp<span style=\"font-weight: bold\">)</span>: <span style=\"color: #008080; text-decoration-color: #008080; font-weight: bold\">0</span>\n",
       "<span style=\"color: #ff0000; text-decoration-color: #ff0000; font-style: italic\">False</span> Negatives <span style=\"font-weight: bold\">(</span>fn<span style=\"font-weight: bold\">)</span>: <span style=\"color: #008080; text-decoration-color: #008080; font-weight: bold\">1</span>\n",
       "Recognition Quality <span style=\"color: #800080; text-decoration-color: #800080\">/</span> F1-Score <span style=\"font-weight: bold\">(</span>rq<span style=\"font-weight: bold\">)</span>: <span style=\"color: #008080; text-decoration-color: #008080; font-weight: bold\">0.6666666666666666</span>\n",
       "\n",
       "+++ GLOBAL +++\n",
       "Global Binary Dice <span style=\"font-weight: bold\">(</span>global_bin_dsc<span style=\"font-weight: bold\">)</span>: <span style=\"color: #008080; text-decoration-color: #008080; font-weight: bold\">0.5892351274787535</span>\n",
       "\n",
       "+++ INSTANCE +++\n",
       "Segmentation Quality IoU <span style=\"font-weight: bold\">(</span>sq<span style=\"font-weight: bold\">)</span>: <span style=\"color: #008080; text-decoration-color: #008080; font-weight: bold\">0.3444976076555024</span> +- <span style=\"color: #008080; text-decoration-color: #008080; font-weight: bold\">0.0</span>\n",
       "Panoptic Quality IoU <span style=\"font-weight: bold\">(</span>pq<span style=\"font-weight: bold\">)</span>: <span style=\"color: #008080; text-decoration-color: #008080; font-weight: bold\">0.22966507177033493</span>\n",
       "Segmentation Quality Dsc <span style=\"font-weight: bold\">(</span>sq_dsc<span style=\"font-weight: bold\">)</span>: <span style=\"color: #008080; text-decoration-color: #008080; font-weight: bold\">0.5124555160142349</span> +- <span style=\"color: #008080; text-decoration-color: #008080; font-weight: bold\">0.0</span>\n",
       "Panoptic Quality Dsc <span style=\"font-weight: bold\">(</span>pq_dsc<span style=\"font-weight: bold\">)</span>: <span style=\"color: #008080; text-decoration-color: #008080; font-weight: bold\">0.3416370106761566</span>\n",
       "Segmentation Quality ASSD <span style=\"font-weight: bold\">(</span>sq_assd<span style=\"font-weight: bold\">)</span>: <span style=\"color: #008080; text-decoration-color: #008080; font-weight: bold\">2.6724199253921057</span> +- <span style=\"color: #008080; text-decoration-color: #008080; font-weight: bold\">0.0</span>\n",
       "Segmentation Quality Relative Volume Difference <span style=\"font-weight: bold\">(</span>sq_rvd<span style=\"font-weight: bold\">)</span>: <span style=\"color: #008080; text-decoration-color: #008080; font-weight: bold\">1.4691358024691359</span> +- <span style=\"color: #008080; text-decoration-color: #008080; font-weight: bold\">0.0</span>\n",
       "\n",
       "</pre>\n"
      ],
      "text/plain": [
       "\n",
       "+++ MATCHING +++\n",
       "Number of instances in reference \u001b[1m(\u001b[0mnum_ref_instances\u001b[1m)\u001b[0m: \u001b[1;36m2\u001b[0m\n",
       "Number of instances in prediction \u001b[1m(\u001b[0mnum_pred_instances\u001b[1m)\u001b[0m: \u001b[1;36m1\u001b[0m\n",
       "\u001b[3;92mTrue\u001b[0m Positives \u001b[1m(\u001b[0mtp\u001b[1m)\u001b[0m: \u001b[1;36m1\u001b[0m\n",
       "\u001b[3;91mFalse\u001b[0m Positives \u001b[1m(\u001b[0mfp\u001b[1m)\u001b[0m: \u001b[1;36m0\u001b[0m\n",
       "\u001b[3;91mFalse\u001b[0m Negatives \u001b[1m(\u001b[0mfn\u001b[1m)\u001b[0m: \u001b[1;36m1\u001b[0m\n",
       "Recognition Quality \u001b[35m/\u001b[0m F1-Score \u001b[1m(\u001b[0mrq\u001b[1m)\u001b[0m: \u001b[1;36m0.6666666666666666\u001b[0m\n",
       "\n",
       "+++ GLOBAL +++\n",
       "Global Binary Dice \u001b[1m(\u001b[0mglobal_bin_dsc\u001b[1m)\u001b[0m: \u001b[1;36m0.5892351274787535\u001b[0m\n",
       "\n",
       "+++ INSTANCE +++\n",
       "Segmentation Quality IoU \u001b[1m(\u001b[0msq\u001b[1m)\u001b[0m: \u001b[1;36m0.3444976076555024\u001b[0m +- \u001b[1;36m0.0\u001b[0m\n",
       "Panoptic Quality IoU \u001b[1m(\u001b[0mpq\u001b[1m)\u001b[0m: \u001b[1;36m0.22966507177033493\u001b[0m\n",
       "Segmentation Quality Dsc \u001b[1m(\u001b[0msq_dsc\u001b[1m)\u001b[0m: \u001b[1;36m0.5124555160142349\u001b[0m +- \u001b[1;36m0.0\u001b[0m\n",
       "Panoptic Quality Dsc \u001b[1m(\u001b[0mpq_dsc\u001b[1m)\u001b[0m: \u001b[1;36m0.3416370106761566\u001b[0m\n",
       "Segmentation Quality ASSD \u001b[1m(\u001b[0msq_assd\u001b[1m)\u001b[0m: \u001b[1;36m2.6724199253921057\u001b[0m +- \u001b[1;36m0.0\u001b[0m\n",
       "Segmentation Quality Relative Volume Difference \u001b[1m(\u001b[0msq_rvd\u001b[1m)\u001b[0m: \u001b[1;36m1.4691358024691359\u001b[0m +- \u001b[1;36m0.0\u001b[0m\n",
       "\n"
      ]
     },
     "metadata": {},
     "output_type": "display_data"
    }
   ],
   "source": [
    "# HUNGRY Matching\n",
    "hungry_evaluator = Panoptica_Evaluator(\n",
    "    expected_input=InputType.SEMANTIC,\n",
    "    instance_approximator=ConnectedComponentsInstanceApproximator(),\n",
    "    instance_matcher=HungryMatching(matching_threshold=0.1),\n",
    ")\n",
    "print(\"\\nHungry Matching\")\n",
    "result = hungry_evaluator.evaluate(pred, gt, verbose=False)[\"ungrouped\"]\n",
    "pprint(result)"
   ]
  }
 ],
 "metadata": {
  "kernelspec": {
   "display_name": "panop",
   "language": "python",
   "name": "python3"
  },
  "language_info": {
   "codemirror_mode": {
    "name": "ipython",
    "version": 3
   },
   "file_extension": ".py",
   "mimetype": "text/x-python",
   "name": "python",
   "nbconvert_exporter": "python",
   "pygments_lexer": "ipython3",
   "version": "3.12.9"
  }
 },
 "nbformat": 4,
 "nbformat_minor": 5
}
