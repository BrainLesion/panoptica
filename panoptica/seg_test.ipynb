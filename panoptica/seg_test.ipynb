{
 "cells": [
  {
   "cell_type": "code",
   "execution_count": 6,
   "metadata": {},
   "outputs": [
    {
     "name": "stdout",
     "output_type": "stream",
     "text": [
      "{1: 1, 2: 2, 3: 2, 4: 3}\n",
      "{1: 1, 3: 2, 5: 3}\n"
     ]
    }
   ],
   "source": [
    "from instance_matcher import _map_instance_labels\n",
    "import numpy as np\n",
    "reference_arr = np.ndarray([\n",
    "    0,1,2,3,4\n",
    "])\n",
    "pred_arr = np.ndarray([\n",
    "    0,1,0,3,5\n",
    "])\n",
    "\n",
    "#prediction 2 -> 3,4 ref\n",
    "\n",
    "labelmap = [([1],[1]),([2,3],[3]),([4],[5])]\n",
    "#_map_instance_labels(pred_arr, reference_arr, labelmap=labelmap)\n",
    "ref_labelmap = {}\n",
    "pred_labelmap = {}\n",
    "\n",
    "for idx, (refs, preds) in enumerate(labelmap):\n",
    "    for r in refs:\n",
    "        ref_labelmap[r] = idx + 1\n",
    "    for p in preds:\n",
    "        pred_labelmap[p] = idx + 1\n",
    "\n",
    "print(ref_labelmap)\n",
    "print(pred_labelmap)"
   ]
  },
  {
   "cell_type": "code",
   "execution_count": 1,
   "metadata": {},
   "outputs": [],
   "source": []
  }
 ],
 "metadata": {
  "kernelspec": {
   "display_name": "nakoseg",
   "language": "python",
   "name": "python3"
  },
  "language_info": {
   "codemirror_mode": {
    "name": "ipython",
    "version": 3
   },
   "file_extension": ".py",
   "mimetype": "text/x-python",
   "name": "python",
   "nbconvert_exporter": "python",
   "pygments_lexer": "ipython3",
   "version": "3.11.5"
  }
 },
 "nbformat": 4,
 "nbformat_minor": 2
}
